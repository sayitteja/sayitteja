{
 "cells": [
  {
   "cell_type": "markdown",
   "metadata": {
    "id": "ZkaF0nzRQoJ1"
   },
   "source": [
    "## Lead Scoring Case Study\n",
    "X Education, an education company that sells online courses to industry professionals, has appointed us to help them select the most promising leads.\n",
    "The company requires us to build a model wherein we need to assign a lead score between 0 and 100 to each of the leads which can be used by the company to target potential leads. A higher score would mean that the lead is hot, i.e. is most likely to convert whereas a lower score would mean that the lead is cold and will mostly not get converted.\n",
    "The CEO has given a ballpark of the target lead conversion rate to be around 80% (currently at 30% for all leads).\n",
    "There are some more problems presented by the company which our model should be able to adjust to if the company's requirement changes in the future. The model should be customizable as per these requirements."
   ]
  },
  {
   "cell_type": "markdown",
   "metadata": {
    "id": "RDAhs0UcQoJ4"
   },
   "source": [
    "### Step 1: Importing Data"
   ]
  },
  {
   "cell_type": "code",
   "execution_count": 530,
   "metadata": {
    "id": "NCnjEYh6QoJ7"
   },
   "outputs": [],
   "source": [
    "# Suppressing Warnings\n",
    "import warnings\n",
    "warnings.filterwarnings('ignore')"
   ]
  },
  {
   "cell_type": "code",
   "execution_count": 531,
   "metadata": {
    "id": "j8evkNgqQoJ9"
   },
   "outputs": [],
   "source": [
    "# Importing Pandas and NumPy\n",
    "import pandas as pd, numpy as np"
   ]
  },
  {
   "cell_type": "code",
   "execution_count": 532,
   "metadata": {
    "id": "kbsmvSHEQoJ-"
   },
   "outputs": [],
   "source": [
    "# Importing all datasets\n",
    "leads_data = pd.read_csv(\"Leads Data.csv\")"
   ]
  },
  {
   "cell_type": "markdown",
   "metadata": {
    "id": "OwjCcL_gQoJ-"
   },
   "source": [
    "### Step 2: Data Preparation"
   ]
  },
  {
   "cell_type": "code",
   "execution_count": 533,
   "metadata": {
    "colab": {
     "base_uri": "https://localhost:8080/",
     "height": 585
    },
    "id": "dwqKYuluQoJ-",
    "outputId": "613cb4fd-d0c2-46ec-cf34-cda52c34d99e"
   },
   "outputs": [
    {
     "data": {
      "text/html": [
       "<div>\n",
       "<style scoped>\n",
       "    .dataframe tbody tr th:only-of-type {\n",
       "        vertical-align: middle;\n",
       "    }\n",
       "\n",
       "    .dataframe tbody tr th {\n",
       "        vertical-align: top;\n",
       "    }\n",
       "\n",
       "    .dataframe thead th {\n",
       "        text-align: right;\n",
       "    }\n",
       "</style>\n",
       "<table border=\"1\" class=\"dataframe\">\n",
       "  <thead>\n",
       "    <tr style=\"text-align: right;\">\n",
       "      <th></th>\n",
       "      <th>Prospect ID</th>\n",
       "      <th>Lead Number</th>\n",
       "      <th>Lead Origin</th>\n",
       "      <th>Lead Source</th>\n",
       "      <th>Do Not Email</th>\n",
       "      <th>Do Not Call</th>\n",
       "      <th>Converted</th>\n",
       "      <th>TotalVisits</th>\n",
       "      <th>Total Time Spent on Website</th>\n",
       "      <th>Page Views Per Visit</th>\n",
       "      <th>...</th>\n",
       "      <th>Get updates on DM Content</th>\n",
       "      <th>Lead Profile</th>\n",
       "      <th>City</th>\n",
       "      <th>Asymmetrique Activity Index</th>\n",
       "      <th>Asymmetrique Profile Index</th>\n",
       "      <th>Asymmetrique Activity Score</th>\n",
       "      <th>Asymmetrique Profile Score</th>\n",
       "      <th>I agree to pay the amount through cheque</th>\n",
       "      <th>A free copy of Mastering The Interview</th>\n",
       "      <th>Last Notable Activity</th>\n",
       "    </tr>\n",
       "  </thead>\n",
       "  <tbody>\n",
       "    <tr>\n",
       "      <th>0</th>\n",
       "      <td>7927b2df-8bba-4d29-b9a2-b6e0beafe620</td>\n",
       "      <td>660737</td>\n",
       "      <td>API</td>\n",
       "      <td>Olark Chat</td>\n",
       "      <td>No</td>\n",
       "      <td>No</td>\n",
       "      <td>0</td>\n",
       "      <td>0.0</td>\n",
       "      <td>0</td>\n",
       "      <td>0.0</td>\n",
       "      <td>...</td>\n",
       "      <td>No</td>\n",
       "      <td>Select</td>\n",
       "      <td>Select</td>\n",
       "      <td>02.Medium</td>\n",
       "      <td>02.Medium</td>\n",
       "      <td>15.0</td>\n",
       "      <td>15.0</td>\n",
       "      <td>No</td>\n",
       "      <td>No</td>\n",
       "      <td>Modified</td>\n",
       "    </tr>\n",
       "    <tr>\n",
       "      <th>1</th>\n",
       "      <td>2a272436-5132-4136-86fa-dcc88c88f482</td>\n",
       "      <td>660728</td>\n",
       "      <td>API</td>\n",
       "      <td>Organic Search</td>\n",
       "      <td>No</td>\n",
       "      <td>No</td>\n",
       "      <td>0</td>\n",
       "      <td>5.0</td>\n",
       "      <td>674</td>\n",
       "      <td>2.5</td>\n",
       "      <td>...</td>\n",
       "      <td>No</td>\n",
       "      <td>Select</td>\n",
       "      <td>Select</td>\n",
       "      <td>02.Medium</td>\n",
       "      <td>02.Medium</td>\n",
       "      <td>15.0</td>\n",
       "      <td>15.0</td>\n",
       "      <td>No</td>\n",
       "      <td>No</td>\n",
       "      <td>Email Opened</td>\n",
       "    </tr>\n",
       "    <tr>\n",
       "      <th>2</th>\n",
       "      <td>8cc8c611-a219-4f35-ad23-fdfd2656bd8a</td>\n",
       "      <td>660727</td>\n",
       "      <td>Landing Page Submission</td>\n",
       "      <td>Direct Traffic</td>\n",
       "      <td>No</td>\n",
       "      <td>No</td>\n",
       "      <td>1</td>\n",
       "      <td>2.0</td>\n",
       "      <td>1532</td>\n",
       "      <td>2.0</td>\n",
       "      <td>...</td>\n",
       "      <td>No</td>\n",
       "      <td>Potential Lead</td>\n",
       "      <td>Mumbai</td>\n",
       "      <td>02.Medium</td>\n",
       "      <td>01.High</td>\n",
       "      <td>14.0</td>\n",
       "      <td>20.0</td>\n",
       "      <td>No</td>\n",
       "      <td>Yes</td>\n",
       "      <td>Email Opened</td>\n",
       "    </tr>\n",
       "    <tr>\n",
       "      <th>3</th>\n",
       "      <td>0cc2df48-7cf4-4e39-9de9-19797f9b38cc</td>\n",
       "      <td>660719</td>\n",
       "      <td>Landing Page Submission</td>\n",
       "      <td>Direct Traffic</td>\n",
       "      <td>No</td>\n",
       "      <td>No</td>\n",
       "      <td>0</td>\n",
       "      <td>1.0</td>\n",
       "      <td>305</td>\n",
       "      <td>1.0</td>\n",
       "      <td>...</td>\n",
       "      <td>No</td>\n",
       "      <td>Select</td>\n",
       "      <td>Mumbai</td>\n",
       "      <td>02.Medium</td>\n",
       "      <td>01.High</td>\n",
       "      <td>13.0</td>\n",
       "      <td>17.0</td>\n",
       "      <td>No</td>\n",
       "      <td>No</td>\n",
       "      <td>Modified</td>\n",
       "    </tr>\n",
       "    <tr>\n",
       "      <th>4</th>\n",
       "      <td>3256f628-e534-4826-9d63-4a8b88782852</td>\n",
       "      <td>660681</td>\n",
       "      <td>Landing Page Submission</td>\n",
       "      <td>Google</td>\n",
       "      <td>No</td>\n",
       "      <td>No</td>\n",
       "      <td>1</td>\n",
       "      <td>2.0</td>\n",
       "      <td>1428</td>\n",
       "      <td>1.0</td>\n",
       "      <td>...</td>\n",
       "      <td>No</td>\n",
       "      <td>Select</td>\n",
       "      <td>Mumbai</td>\n",
       "      <td>02.Medium</td>\n",
       "      <td>01.High</td>\n",
       "      <td>15.0</td>\n",
       "      <td>18.0</td>\n",
       "      <td>No</td>\n",
       "      <td>No</td>\n",
       "      <td>Modified</td>\n",
       "    </tr>\n",
       "  </tbody>\n",
       "</table>\n",
       "<p>5 rows × 37 columns</p>\n",
       "</div>"
      ],
      "text/plain": [
       "                            Prospect ID  Lead Number              Lead Origin  \\\n",
       "0  7927b2df-8bba-4d29-b9a2-b6e0beafe620       660737                      API   \n",
       "1  2a272436-5132-4136-86fa-dcc88c88f482       660728                      API   \n",
       "2  8cc8c611-a219-4f35-ad23-fdfd2656bd8a       660727  Landing Page Submission   \n",
       "3  0cc2df48-7cf4-4e39-9de9-19797f9b38cc       660719  Landing Page Submission   \n",
       "4  3256f628-e534-4826-9d63-4a8b88782852       660681  Landing Page Submission   \n",
       "\n",
       "      Lead Source Do Not Email Do Not Call  Converted  TotalVisits  \\\n",
       "0      Olark Chat           No          No          0          0.0   \n",
       "1  Organic Search           No          No          0          5.0   \n",
       "2  Direct Traffic           No          No          1          2.0   \n",
       "3  Direct Traffic           No          No          0          1.0   \n",
       "4          Google           No          No          1          2.0   \n",
       "\n",
       "   Total Time Spent on Website  Page Views Per Visit  ...  \\\n",
       "0                            0                   0.0  ...   \n",
       "1                          674                   2.5  ...   \n",
       "2                         1532                   2.0  ...   \n",
       "3                          305                   1.0  ...   \n",
       "4                         1428                   1.0  ...   \n",
       "\n",
       "  Get updates on DM Content    Lead Profile    City  \\\n",
       "0                        No          Select  Select   \n",
       "1                        No          Select  Select   \n",
       "2                        No  Potential Lead  Mumbai   \n",
       "3                        No          Select  Mumbai   \n",
       "4                        No          Select  Mumbai   \n",
       "\n",
       "  Asymmetrique Activity Index Asymmetrique Profile Index  \\\n",
       "0                   02.Medium                  02.Medium   \n",
       "1                   02.Medium                  02.Medium   \n",
       "2                   02.Medium                    01.High   \n",
       "3                   02.Medium                    01.High   \n",
       "4                   02.Medium                    01.High   \n",
       "\n",
       "  Asymmetrique Activity Score Asymmetrique Profile Score  \\\n",
       "0                        15.0                       15.0   \n",
       "1                        15.0                       15.0   \n",
       "2                        14.0                       20.0   \n",
       "3                        13.0                       17.0   \n",
       "4                        15.0                       18.0   \n",
       "\n",
       "  I agree to pay the amount through cheque  \\\n",
       "0                                       No   \n",
       "1                                       No   \n",
       "2                                       No   \n",
       "3                                       No   \n",
       "4                                       No   \n",
       "\n",
       "  A free copy of Mastering The Interview Last Notable Activity  \n",
       "0                                     No              Modified  \n",
       "1                                     No          Email Opened  \n",
       "2                                    Yes          Email Opened  \n",
       "3                                     No              Modified  \n",
       "4                                     No              Modified  \n",
       "\n",
       "[5 rows x 37 columns]"
      ]
     },
     "execution_count": 533,
     "metadata": {},
     "output_type": "execute_result"
    }
   ],
   "source": [
    "# Let's see the head of our dataset\n",
    "leads_data.head()"
   ]
  },
  {
   "cell_type": "code",
   "execution_count": 534,
   "metadata": {
    "colab": {
     "base_uri": "https://localhost:8080/"
    },
    "id": "TSvj_nhSQoKA",
    "outputId": "11a7a0f6-c768-4ee8-bee1-ec6b92c90916"
   },
   "outputs": [
    {
     "data": {
      "text/plain": [
       "(9240, 37)"
      ]
     },
     "execution_count": 534,
     "metadata": {},
     "output_type": "execute_result"
    }
   ],
   "source": [
    "# Let's check the dimensions of the dataframe\n",
    "leads_data.shape"
   ]
  },
  {
   "cell_type": "code",
   "execution_count": 535,
   "metadata": {
    "colab": {
     "base_uri": "https://localhost:8080/",
     "height": 354
    },
    "id": "9hDgNeWVQoKB",
    "outputId": "e66082b0-69b9-4416-f7ff-053675206a34"
   },
   "outputs": [
    {
     "data": {
      "text/html": [
       "<div>\n",
       "<style scoped>\n",
       "    .dataframe tbody tr th:only-of-type {\n",
       "        vertical-align: middle;\n",
       "    }\n",
       "\n",
       "    .dataframe tbody tr th {\n",
       "        vertical-align: top;\n",
       "    }\n",
       "\n",
       "    .dataframe thead th {\n",
       "        text-align: right;\n",
       "    }\n",
       "</style>\n",
       "<table border=\"1\" class=\"dataframe\">\n",
       "  <thead>\n",
       "    <tr style=\"text-align: right;\">\n",
       "      <th></th>\n",
       "      <th>Lead Number</th>\n",
       "      <th>Converted</th>\n",
       "      <th>TotalVisits</th>\n",
       "      <th>Total Time Spent on Website</th>\n",
       "      <th>Page Views Per Visit</th>\n",
       "      <th>Asymmetrique Activity Score</th>\n",
       "      <th>Asymmetrique Profile Score</th>\n",
       "    </tr>\n",
       "  </thead>\n",
       "  <tbody>\n",
       "    <tr>\n",
       "      <th>count</th>\n",
       "      <td>9240.000000</td>\n",
       "      <td>9240.000000</td>\n",
       "      <td>9103.000000</td>\n",
       "      <td>9240.000000</td>\n",
       "      <td>9103.000000</td>\n",
       "      <td>5022.000000</td>\n",
       "      <td>5022.000000</td>\n",
       "    </tr>\n",
       "    <tr>\n",
       "      <th>mean</th>\n",
       "      <td>617188.435606</td>\n",
       "      <td>0.385390</td>\n",
       "      <td>3.445238</td>\n",
       "      <td>487.698268</td>\n",
       "      <td>2.362820</td>\n",
       "      <td>14.306252</td>\n",
       "      <td>16.344883</td>\n",
       "    </tr>\n",
       "    <tr>\n",
       "      <th>std</th>\n",
       "      <td>23405.995698</td>\n",
       "      <td>0.486714</td>\n",
       "      <td>4.854853</td>\n",
       "      <td>548.021466</td>\n",
       "      <td>2.161418</td>\n",
       "      <td>1.386694</td>\n",
       "      <td>1.811395</td>\n",
       "    </tr>\n",
       "    <tr>\n",
       "      <th>min</th>\n",
       "      <td>579533.000000</td>\n",
       "      <td>0.000000</td>\n",
       "      <td>0.000000</td>\n",
       "      <td>0.000000</td>\n",
       "      <td>0.000000</td>\n",
       "      <td>7.000000</td>\n",
       "      <td>11.000000</td>\n",
       "    </tr>\n",
       "    <tr>\n",
       "      <th>25%</th>\n",
       "      <td>596484.500000</td>\n",
       "      <td>0.000000</td>\n",
       "      <td>1.000000</td>\n",
       "      <td>12.000000</td>\n",
       "      <td>1.000000</td>\n",
       "      <td>14.000000</td>\n",
       "      <td>15.000000</td>\n",
       "    </tr>\n",
       "    <tr>\n",
       "      <th>50%</th>\n",
       "      <td>615479.000000</td>\n",
       "      <td>0.000000</td>\n",
       "      <td>3.000000</td>\n",
       "      <td>248.000000</td>\n",
       "      <td>2.000000</td>\n",
       "      <td>14.000000</td>\n",
       "      <td>16.000000</td>\n",
       "    </tr>\n",
       "    <tr>\n",
       "      <th>75%</th>\n",
       "      <td>637387.250000</td>\n",
       "      <td>1.000000</td>\n",
       "      <td>5.000000</td>\n",
       "      <td>936.000000</td>\n",
       "      <td>3.000000</td>\n",
       "      <td>15.000000</td>\n",
       "      <td>18.000000</td>\n",
       "    </tr>\n",
       "    <tr>\n",
       "      <th>max</th>\n",
       "      <td>660737.000000</td>\n",
       "      <td>1.000000</td>\n",
       "      <td>251.000000</td>\n",
       "      <td>2272.000000</td>\n",
       "      <td>55.000000</td>\n",
       "      <td>18.000000</td>\n",
       "      <td>20.000000</td>\n",
       "    </tr>\n",
       "  </tbody>\n",
       "</table>\n",
       "</div>"
      ],
      "text/plain": [
       "         Lead Number    Converted  TotalVisits  Total Time Spent on Website  \\\n",
       "count    9240.000000  9240.000000  9103.000000                  9240.000000   \n",
       "mean   617188.435606     0.385390     3.445238                   487.698268   \n",
       "std     23405.995698     0.486714     4.854853                   548.021466   \n",
       "min    579533.000000     0.000000     0.000000                     0.000000   \n",
       "25%    596484.500000     0.000000     1.000000                    12.000000   \n",
       "50%    615479.000000     0.000000     3.000000                   248.000000   \n",
       "75%    637387.250000     1.000000     5.000000                   936.000000   \n",
       "max    660737.000000     1.000000   251.000000                  2272.000000   \n",
       "\n",
       "       Page Views Per Visit  Asymmetrique Activity Score  \\\n",
       "count           9103.000000                  5022.000000   \n",
       "mean               2.362820                    14.306252   \n",
       "std                2.161418                     1.386694   \n",
       "min                0.000000                     7.000000   \n",
       "25%                1.000000                    14.000000   \n",
       "50%                2.000000                    14.000000   \n",
       "75%                3.000000                    15.000000   \n",
       "max               55.000000                    18.000000   \n",
       "\n",
       "       Asymmetrique Profile Score  \n",
       "count                 5022.000000  \n",
       "mean                    16.344883  \n",
       "std                      1.811395  \n",
       "min                     11.000000  \n",
       "25%                     15.000000  \n",
       "50%                     16.000000  \n",
       "75%                     18.000000  \n",
       "max                     20.000000  "
      ]
     },
     "execution_count": 535,
     "metadata": {},
     "output_type": "execute_result"
    }
   ],
   "source": [
    "# let's look at the statistical aspects of the dataframe\n",
    "leads_data.describe()"
   ]
  },
  {
   "cell_type": "code",
   "execution_count": 536,
   "metadata": {
    "colab": {
     "base_uri": "https://localhost:8080/"
    },
    "id": "JaOyXrIbQoKC",
    "outputId": "9b78e2a1-164f-4063-8f70-348e889d2085"
   },
   "outputs": [
    {
     "name": "stdout",
     "output_type": "stream",
     "text": [
      "<class 'pandas.core.frame.DataFrame'>\n",
      "RangeIndex: 9240 entries, 0 to 9239\n",
      "Data columns (total 37 columns):\n",
      " #   Column                                         Non-Null Count  Dtype  \n",
      "---  ------                                         --------------  -----  \n",
      " 0   Prospect ID                                    9240 non-null   object \n",
      " 1   Lead Number                                    9240 non-null   int64  \n",
      " 2   Lead Origin                                    9240 non-null   object \n",
      " 3   Lead Source                                    9204 non-null   object \n",
      " 4   Do Not Email                                   9240 non-null   object \n",
      " 5   Do Not Call                                    9240 non-null   object \n",
      " 6   Converted                                      9240 non-null   int64  \n",
      " 7   TotalVisits                                    9103 non-null   float64\n",
      " 8   Total Time Spent on Website                    9240 non-null   int64  \n",
      " 9   Page Views Per Visit                           9103 non-null   float64\n",
      " 10  Last Activity                                  9137 non-null   object \n",
      " 11  Country                                        6779 non-null   object \n",
      " 12  Specialization                                 7802 non-null   object \n",
      " 13  How did you hear about X Education             7033 non-null   object \n",
      " 14  What is your current occupation                6550 non-null   object \n",
      " 15  What matters most to you in choosing a course  6531 non-null   object \n",
      " 16  Search                                         9240 non-null   object \n",
      " 17  Magazine                                       9240 non-null   object \n",
      " 18  Newspaper Article                              9240 non-null   object \n",
      " 19  X Education Forums                             9240 non-null   object \n",
      " 20  Newspaper                                      9240 non-null   object \n",
      " 21  Digital Advertisement                          9240 non-null   object \n",
      " 22  Through Recommendations                        9240 non-null   object \n",
      " 23  Receive More Updates About Our Courses         9240 non-null   object \n",
      " 24  Tags                                           5887 non-null   object \n",
      " 25  Lead Quality                                   4473 non-null   object \n",
      " 26  Update me on Supply Chain Content              9240 non-null   object \n",
      " 27  Get updates on DM Content                      9240 non-null   object \n",
      " 28  Lead Profile                                   6531 non-null   object \n",
      " 29  City                                           7820 non-null   object \n",
      " 30  Asymmetrique Activity Index                    5022 non-null   object \n",
      " 31  Asymmetrique Profile Index                     5022 non-null   object \n",
      " 32  Asymmetrique Activity Score                    5022 non-null   float64\n",
      " 33  Asymmetrique Profile Score                     5022 non-null   float64\n",
      " 34  I agree to pay the amount through cheque       9240 non-null   object \n",
      " 35  A free copy of Mastering The Interview         9240 non-null   object \n",
      " 36  Last Notable Activity                          9240 non-null   object \n",
      "dtypes: float64(4), int64(3), object(30)\n",
      "memory usage: 2.6+ MB\n"
     ]
    }
   ],
   "source": [
    "# Let's see the type of each column\n",
    "leads_data.info()"
   ]
  },
  {
   "cell_type": "code",
   "execution_count": 537,
   "metadata": {
    "colab": {
     "base_uri": "https://localhost:8080/",
     "height": 1000
    },
    "id": "XHg41uajuwqq",
    "outputId": "b91c0a6e-2dba-434d-ab09-d921c7b49d0f"
   },
   "outputs": [
    {
     "data": {
      "text/plain": [
       "Prospect ID                                       0.00\n",
       "Lead Number                                       0.00\n",
       "Lead Origin                                       0.00\n",
       "Lead Source                                       0.39\n",
       "Do Not Email                                      0.00\n",
       "Do Not Call                                       0.00\n",
       "Converted                                         0.00\n",
       "TotalVisits                                       1.48\n",
       "Total Time Spent on Website                       0.00\n",
       "Page Views Per Visit                              1.48\n",
       "Last Activity                                     1.11\n",
       "Country                                          26.63\n",
       "Specialization                                   15.56\n",
       "How did you hear about X Education               23.89\n",
       "What is your current occupation                  29.11\n",
       "What matters most to you in choosing a course    29.32\n",
       "Search                                            0.00\n",
       "Magazine                                          0.00\n",
       "Newspaper Article                                 0.00\n",
       "X Education Forums                                0.00\n",
       "Newspaper                                         0.00\n",
       "Digital Advertisement                             0.00\n",
       "Through Recommendations                           0.00\n",
       "Receive More Updates About Our Courses            0.00\n",
       "Tags                                             36.29\n",
       "Lead Quality                                     51.59\n",
       "Update me on Supply Chain Content                 0.00\n",
       "Get updates on DM Content                         0.00\n",
       "Lead Profile                                     29.32\n",
       "City                                             15.37\n",
       "Asymmetrique Activity Index                      45.65\n",
       "Asymmetrique Profile Index                       45.65\n",
       "Asymmetrique Activity Score                      45.65\n",
       "Asymmetrique Profile Score                       45.65\n",
       "I agree to pay the amount through cheque          0.00\n",
       "A free copy of Mastering The Interview            0.00\n",
       "Last Notable Activity                             0.00\n",
       "dtype: float64"
      ]
     },
     "execution_count": 537,
     "metadata": {},
     "output_type": "execute_result"
    }
   ],
   "source": [
    "# Checking the percentage of missing values\n",
    "round(100*(leads_data.isnull().sum()/len(leads_data.index)), 2)"
   ]
  },
  {
   "cell_type": "markdown",
   "metadata": {
    "id": "OiwgZ1sNZ841"
   },
   "source": [
    "Dropping columns with too many null values"
   ]
  },
  {
   "cell_type": "code",
   "execution_count": 538,
   "metadata": {
    "id": "z14e3OnzZ841"
   },
   "outputs": [],
   "source": [
    "leads_data.drop(['Lead Quality','How did you hear about X Education', 'Asymmetrique Activity Index', 'Asymmetrique Profile Index', 'Asymmetrique Activity Score','Asymmetrique Profile Score'],axis=1,inplace=True)"
   ]
  },
  {
   "cell_type": "code",
   "execution_count": 539,
   "metadata": {
    "colab": {
     "base_uri": "https://localhost:8080/"
    },
    "id": "-JwzHFbNvfNz",
    "outputId": "91761471-9fac-4a9c-f22b-507d423471d9",
    "scrolled": true
   },
   "outputs": [
    {
     "data": {
      "text/plain": [
       "Index(['Prospect ID', 'Lead Number', 'Lead Origin', 'Lead Source',\n",
       "       'Do Not Email', 'Do Not Call', 'Converted', 'TotalVisits',\n",
       "       'Total Time Spent on Website', 'Page Views Per Visit', 'Last Activity',\n",
       "       'Country', 'Specialization', 'What is your current occupation',\n",
       "       'What matters most to you in choosing a course', 'Search', 'Magazine',\n",
       "       'Newspaper Article', 'X Education Forums', 'Newspaper',\n",
       "       'Digital Advertisement', 'Through Recommendations',\n",
       "       'Receive More Updates About Our Courses', 'Tags',\n",
       "       'Update me on Supply Chain Content', 'Get updates on DM Content',\n",
       "       'Lead Profile', 'City', 'I agree to pay the amount through cheque',\n",
       "       'A free copy of Mastering The Interview', 'Last Notable Activity'],\n",
       "      dtype='object')"
      ]
     },
     "execution_count": 539,
     "metadata": {},
     "output_type": "execute_result"
    }
   ],
   "source": [
    "leads_data.columns"
   ]
  },
  {
   "cell_type": "code",
   "execution_count": 540,
   "metadata": {
    "colab": {
     "base_uri": "https://localhost:8080/",
     "height": 146
    },
    "id": "LgHBFPQXZ842",
    "outputId": "81d06018-656f-4325-961e-ea08c4bd6ba9"
   },
   "outputs": [
    {
     "data": {
      "text/plain": [
       "I agree to pay the amount through cheque\n",
       "No    9240\n",
       "Name: count, dtype: int64"
      ]
     },
     "execution_count": 540,
     "metadata": {},
     "output_type": "execute_result"
    }
   ],
   "source": [
    "leads_data['I agree to pay the amount through cheque'].value_counts()"
   ]
  },
  {
   "cell_type": "markdown",
   "metadata": {
    "id": "fIFdwbc6wYij"
   },
   "source": [
    " I agree to pay the amount through cheque - This column should definitely be dropped as it has values containing only 'No'. Also dropping other similar columns containing only 'No' or mostly 'No'.\n",
    "\n",
    "\n",
    "\n"
   ]
  },
  {
   "cell_type": "code",
   "execution_count": 541,
   "metadata": {
    "id": "WSmXQaNaZ842"
   },
   "outputs": [],
   "source": [
    "leads_data.drop(['I agree to pay the amount through cheque', 'Magazine', 'Get updates on DM Content', 'Newspaper Article', 'X Education Forums', 'Newspaper', 'Receive More Updates About Our Courses'],axis=1,inplace=True)"
   ]
  },
  {
   "cell_type": "code",
   "execution_count": 542,
   "metadata": {
    "colab": {
     "base_uri": "https://localhost:8080/",
     "height": 303
    },
    "id": "TjgR_k262dhS",
    "outputId": "8e2a4c4f-ded3-4f5f-838a-a1640867185a",
    "scrolled": true
   },
   "outputs": [
    {
     "data": {
      "text/plain": [
       "Lead Profile\n",
       "Select                         4146\n",
       "Potential Lead                 1613\n",
       "Other Leads                     487\n",
       "Student of SomeSchool           241\n",
       "Lateral Student                  24\n",
       "Dual Specialization Student      20\n",
       "Name: count, dtype: int64"
      ]
     },
     "execution_count": 542,
     "metadata": {},
     "output_type": "execute_result"
    }
   ],
   "source": [
    "leads_data['Lead Profile'].value_counts()"
   ]
  },
  {
   "cell_type": "code",
   "execution_count": 543,
   "metadata": {
    "id": "hjP2SijIYt2r"
   },
   "outputs": [],
   "source": [
    "# Given majority of the values in 'Lead Profile' column are Select and 29% of values are null, we are dropping\n",
    "# this column.\n",
    "leads_data.drop(['Lead Profile'], axis=1, inplace=True)\n",
    "\n",
    "#Dropping 'City' column also in line with above\n",
    "leads_data.drop(['City','Specialization'], axis=1, inplace=True)"
   ]
  },
  {
   "cell_type": "code",
   "execution_count": 544,
   "metadata": {
    "id": "SBS2xfTQ7M9E"
   },
   "outputs": [],
   "source": [
    "# Also, deleting the irrelevant columns/ columns with too many unique values\n",
    "leads_data.drop(['Last Notable Activity', 'Country', 'Tags','Last Activity','Prospect ID', 'Lead Source'],axis=1,inplace=True)"
   ]
  },
  {
   "cell_type": "code",
   "execution_count": 545,
   "metadata": {
    "colab": {
     "base_uri": "https://localhost:8080/",
     "height": 554
    },
    "id": "JxvDPu5vGGWM",
    "outputId": "ae1a7f0f-7a1c-4433-9989-caf37c2eb38e",
    "scrolled": true
   },
   "outputs": [
    {
     "data": {
      "text/plain": [
       "Lead Number                                       0.00\n",
       "Lead Origin                                       0.00\n",
       "Do Not Email                                      0.00\n",
       "Do Not Call                                       0.00\n",
       "Converted                                         0.00\n",
       "TotalVisits                                       1.48\n",
       "Total Time Spent on Website                       0.00\n",
       "Page Views Per Visit                              1.48\n",
       "What is your current occupation                  29.11\n",
       "What matters most to you in choosing a course    29.32\n",
       "Search                                            0.00\n",
       "Digital Advertisement                             0.00\n",
       "Through Recommendations                           0.00\n",
       "Update me on Supply Chain Content                 0.00\n",
       "A free copy of Mastering The Interview            0.00\n",
       "dtype: float64"
      ]
     },
     "execution_count": 545,
     "metadata": {},
     "output_type": "execute_result"
    }
   ],
   "source": [
    "round(100*(leads_data.isnull().sum()/len(leads_data.index)), 2)"
   ]
  },
  {
   "cell_type": "code",
   "execution_count": 546,
   "metadata": {
    "colab": {
     "base_uri": "https://localhost:8080/",
     "height": 209
    },
    "id": "CIoCCxZXZ843",
    "outputId": "1ce0bd50-cd17-48ae-bf33-955388814c75"
   },
   "outputs": [
    {
     "data": {
      "text/plain": [
       "What matters most to you in choosing a course\n",
       "Better Career Prospects      6528\n",
       "Flexibility & Convenience       2\n",
       "Other                           1\n",
       "Name: count, dtype: int64"
      ]
     },
     "execution_count": 546,
     "metadata": {},
     "output_type": "execute_result"
    }
   ],
   "source": [
    "leads_data['What matters most to you in choosing a course'].value_counts()"
   ]
  },
  {
   "cell_type": "code",
   "execution_count": 547,
   "metadata": {
    "id": "LfEnvjD3Z844"
   },
   "outputs": [],
   "source": [
    "# Dropping the column as 29% of the values are null as well as rest of the values are primarily \"Better Career Prospects\"\n",
    "leads_data.drop('What matters most to you in choosing a course', axis = 1, inplace=True)"
   ]
  },
  {
   "cell_type": "code",
   "execution_count": 548,
   "metadata": {
    "colab": {
     "base_uri": "https://localhost:8080/",
     "height": 272
    },
    "id": "EkyVVEqbbfR5",
    "outputId": "afbeb31b-1662-4b83-ad06-1c7b079e4765"
   },
   "outputs": [
    {
     "data": {
      "text/plain": [
       "Lead Origin\n",
       "Landing Page Submission    4886\n",
       "API                        3580\n",
       "Lead Add Form               718\n",
       "Lead Import                  55\n",
       "Quick Add Form                1\n",
       "Name: count, dtype: int64"
      ]
     },
     "execution_count": 548,
     "metadata": {},
     "output_type": "execute_result"
    }
   ],
   "source": [
    "leads_data['Lead Origin'].value_counts()"
   ]
  },
  {
   "cell_type": "code",
   "execution_count": 549,
   "metadata": {
    "colab": {
     "base_uri": "https://localhost:8080/",
     "height": 204
    },
    "id": "35OD3EE3eDUB",
    "outputId": "519914df-b1ea-42f3-842b-15289253b47a"
   },
   "outputs": [
    {
     "data": {
      "text/html": [
       "<div>\n",
       "<style scoped>\n",
       "    .dataframe tbody tr th:only-of-type {\n",
       "        vertical-align: middle;\n",
       "    }\n",
       "\n",
       "    .dataframe tbody tr th {\n",
       "        vertical-align: top;\n",
       "    }\n",
       "\n",
       "    .dataframe thead th {\n",
       "        text-align: right;\n",
       "    }\n",
       "</style>\n",
       "<table border=\"1\" class=\"dataframe\">\n",
       "  <thead>\n",
       "    <tr style=\"text-align: right;\">\n",
       "      <th></th>\n",
       "      <th>Lead Number</th>\n",
       "      <th>Lead Origin</th>\n",
       "      <th>Do Not Email</th>\n",
       "      <th>Do Not Call</th>\n",
       "      <th>Converted</th>\n",
       "      <th>TotalVisits</th>\n",
       "      <th>Total Time Spent on Website</th>\n",
       "      <th>Page Views Per Visit</th>\n",
       "      <th>What is your current occupation</th>\n",
       "      <th>Search</th>\n",
       "      <th>Digital Advertisement</th>\n",
       "      <th>Through Recommendations</th>\n",
       "      <th>Update me on Supply Chain Content</th>\n",
       "      <th>A free copy of Mastering The Interview</th>\n",
       "    </tr>\n",
       "  </thead>\n",
       "  <tbody>\n",
       "    <tr>\n",
       "      <th>2601</th>\n",
       "      <td>634618</td>\n",
       "      <td>Quick Add Form</td>\n",
       "      <td>Yes</td>\n",
       "      <td>No</td>\n",
       "      <td>1</td>\n",
       "      <td>NaN</td>\n",
       "      <td>2217</td>\n",
       "      <td>NaN</td>\n",
       "      <td>Unemployed</td>\n",
       "      <td>No</td>\n",
       "      <td>No</td>\n",
       "      <td>No</td>\n",
       "      <td>No</td>\n",
       "      <td>No</td>\n",
       "    </tr>\n",
       "  </tbody>\n",
       "</table>\n",
       "</div>"
      ],
      "text/plain": [
       "      Lead Number     Lead Origin Do Not Email Do Not Call  Converted  \\\n",
       "2601       634618  Quick Add Form          Yes          No          1   \n",
       "\n",
       "      TotalVisits  Total Time Spent on Website  Page Views Per Visit  \\\n",
       "2601          NaN                         2217                   NaN   \n",
       "\n",
       "     What is your current occupation Search Digital Advertisement  \\\n",
       "2601                      Unemployed     No                    No   \n",
       "\n",
       "     Through Recommendations Update me on Supply Chain Content  \\\n",
       "2601                      No                                No   \n",
       "\n",
       "     A free copy of Mastering The Interview  \n",
       "2601                                     No  "
      ]
     },
     "execution_count": 549,
     "metadata": {},
     "output_type": "execute_result"
    }
   ],
   "source": [
    "leads_data[leads_data[\"Lead Origin\"] == 'Quick Add Form']"
   ]
  },
  {
   "cell_type": "code",
   "execution_count": 550,
   "metadata": {
    "id": "_GqZbeNreqiZ"
   },
   "outputs": [],
   "source": [
    "leads_data = leads_data[leads_data[\"Lead Origin\"] != 'Quick Add Form']"
   ]
  },
  {
   "cell_type": "code",
   "execution_count": 551,
   "metadata": {
    "colab": {
     "base_uri": "https://localhost:8080/",
     "height": 178
    },
    "id": "tLwTyq6hi0pS",
    "outputId": "47ad7652-950f-4ecc-da0c-d7d7242af731"
   },
   "outputs": [
    {
     "data": {
      "text/plain": [
       "Converted\n",
       "0    5679\n",
       "1    3560\n",
       "Name: count, dtype: int64"
      ]
     },
     "execution_count": 551,
     "metadata": {},
     "output_type": "execute_result"
    }
   ],
   "source": [
    "leads_data['Converted'].value_counts()"
   ]
  },
  {
   "cell_type": "code",
   "execution_count": 552,
   "metadata": {
    "id": "sJL-OR58tdJD"
   },
   "outputs": [],
   "source": [
    "leads_data = leads_data[~leads_data['TotalVisits'].isna()]"
   ]
  },
  {
   "cell_type": "code",
   "execution_count": 553,
   "metadata": {
    "id": "_VLNEnoCugov"
   },
   "outputs": [],
   "source": [
    "leads_data = leads_data[~leads_data['Page Views Per Visit'].isna()]"
   ]
  },
  {
   "cell_type": "code",
   "execution_count": 554,
   "metadata": {
    "colab": {
     "base_uri": "https://localhost:8080/"
    },
    "id": "PJiWXUitsB_E",
    "outputId": "c265f449-20ac-467e-fc71-6e55450ec9a0"
   },
   "outputs": [
    {
     "name": "stdout",
     "output_type": "stream",
     "text": [
      "<class 'pandas.core.frame.DataFrame'>\n",
      "Index: 9103 entries, 0 to 9239\n",
      "Data columns (total 14 columns):\n",
      " #   Column                                  Non-Null Count  Dtype  \n",
      "---  ------                                  --------------  -----  \n",
      " 0   Lead Number                             9103 non-null   int64  \n",
      " 1   Lead Origin                             9103 non-null   object \n",
      " 2   Do Not Email                            9103 non-null   object \n",
      " 3   Do Not Call                             9103 non-null   object \n",
      " 4   Converted                               9103 non-null   int64  \n",
      " 5   TotalVisits                             9103 non-null   float64\n",
      " 6   Total Time Spent on Website             9103 non-null   int64  \n",
      " 7   Page Views Per Visit                    9103 non-null   float64\n",
      " 8   What is your current occupation         6420 non-null   object \n",
      " 9   Search                                  9103 non-null   object \n",
      " 10  Digital Advertisement                   9103 non-null   object \n",
      " 11  Through Recommendations                 9103 non-null   object \n",
      " 12  Update me on Supply Chain Content       9103 non-null   object \n",
      " 13  A free copy of Mastering The Interview  9103 non-null   object \n",
      "dtypes: float64(2), int64(3), object(9)\n",
      "memory usage: 1.0+ MB\n"
     ]
    }
   ],
   "source": [
    "leads_data.info()"
   ]
  },
  {
   "cell_type": "code",
   "execution_count": 555,
   "metadata": {
    "id": "r3ZV2l4avZvL"
   },
   "outputs": [],
   "source": [
    "leads_data['Total Page Views'] = leads_data['TotalVisits'] * leads_data['Page Views Per Visit']"
   ]
  },
  {
   "cell_type": "code",
   "execution_count": 556,
   "metadata": {
    "id": "TNNK7p_5v4BB"
   },
   "outputs": [],
   "source": [
    "#Retaining Total Page views and dropping TotalVisits and Page Views Per Visit columns\n",
    "leads_data.drop(['TotalVisits', 'Page Views Per Visit'], axis = 1, inplace = True)"
   ]
  },
  {
   "cell_type": "code",
   "execution_count": 557,
   "metadata": {
    "colab": {
     "base_uri": "https://localhost:8080/"
    },
    "id": "e2XwC7fcwQj0",
    "outputId": "d50e45f0-a263-4c3a-adbf-dacb26384887"
   },
   "outputs": [
    {
     "name": "stdout",
     "output_type": "stream",
     "text": [
      "<class 'pandas.core.frame.DataFrame'>\n",
      "Index: 9103 entries, 0 to 9239\n",
      "Data columns (total 13 columns):\n",
      " #   Column                                  Non-Null Count  Dtype  \n",
      "---  ------                                  --------------  -----  \n",
      " 0   Lead Number                             9103 non-null   int64  \n",
      " 1   Lead Origin                             9103 non-null   object \n",
      " 2   Do Not Email                            9103 non-null   object \n",
      " 3   Do Not Call                             9103 non-null   object \n",
      " 4   Converted                               9103 non-null   int64  \n",
      " 5   Total Time Spent on Website             9103 non-null   int64  \n",
      " 6   What is your current occupation         6420 non-null   object \n",
      " 7   Search                                  9103 non-null   object \n",
      " 8   Digital Advertisement                   9103 non-null   object \n",
      " 9   Through Recommendations                 9103 non-null   object \n",
      " 10  Update me on Supply Chain Content       9103 non-null   object \n",
      " 11  A free copy of Mastering The Interview  9103 non-null   object \n",
      " 12  Total Page Views                        9103 non-null   float64\n",
      "dtypes: float64(1), int64(3), object(9)\n",
      "memory usage: 995.6+ KB\n"
     ]
    }
   ],
   "source": [
    "leads_data.info()"
   ]
  },
  {
   "cell_type": "markdown",
   "metadata": {
    "id": "flXJyvXkQoKD"
   },
   "source": [
    "#### Converting some binary variables (Yes/No) to 0/1"
   ]
  },
  {
   "cell_type": "code",
   "execution_count": 558,
   "metadata": {
    "id": "lsaL959xQoKD"
   },
   "outputs": [],
   "source": [
    "# List of variables to map\n",
    "\n",
    "varlist =  ['Do Not Email', 'Do Not Call', 'Search','Digital Advertisement','Through Recommendations', 'Update me on Supply Chain Content','A free copy of Mastering The Interview']\n",
    "\n",
    "# Defining the map function\n",
    "def binary_map(x):\n",
    "    return x.map({'Yes': 1, \"No\": 0})\n",
    "\n",
    "# Applying the function to the leads list\n",
    "leads_data[varlist] = leads_data[varlist].apply(binary_map)"
   ]
  },
  {
   "cell_type": "markdown",
   "metadata": {
    "id": "V5-QvqkO1Sl3"
   },
   "source": [
    "#### Converting the categorical variables - Lead Origin & What is your current occupation"
   ]
  },
  {
   "cell_type": "code",
   "execution_count": 559,
   "metadata": {
    "colab": {
     "base_uri": "https://localhost:8080/",
     "height": 240
    },
    "id": "ZJgM_qXf0ycx",
    "outputId": "fb5f0e6a-5804-40e4-f0f3-909004272fdd"
   },
   "outputs": [
    {
     "data": {
      "text/plain": [
       "Lead Origin\n",
       "Landing Page Submission    4886\n",
       "API                        3578\n",
       "Lead Add Form               608\n",
       "Lead Import                  31\n",
       "Name: count, dtype: int64"
      ]
     },
     "execution_count": 559,
     "metadata": {},
     "output_type": "execute_result"
    }
   ],
   "source": [
    "leads_data['Lead Origin'].value_counts()"
   ]
  },
  {
   "cell_type": "code",
   "execution_count": 560,
   "metadata": {
    "id": "mL8vvQd91y_r"
   },
   "outputs": [],
   "source": [
    "# Creating a dummy variable for the Leads Origin variable and dropping the first one.\n",
    "LO_dummy = pd.get_dummies(leads_data['Lead Origin'], drop_first=True, dtype=int)\n",
    "\n",
    "leads_data = pd.concat([leads_data, LO_dummy], axis=1)\n",
    "\n",
    "#Dropping original Lead Origin column\n",
    "leads_data.drop('Lead Origin', axis = 1, inplace = True)"
   ]
  },
  {
   "cell_type": "code",
   "execution_count": 561,
   "metadata": {
    "colab": {
     "base_uri": "https://localhost:8080/",
     "height": 303
    },
    "id": "5U2oj-YYZ846",
    "outputId": "8a6e9c16-cbe6-409d-a31a-6affdb171c92"
   },
   "outputs": [
    {
     "data": {
      "text/plain": [
       "What is your current occupation\n",
       "Unemployed              5502\n",
       "Working Professional     679\n",
       "Student                  207\n",
       "Other                     15\n",
       "Housewife                  9\n",
       "Businessman                8\n",
       "Name: count, dtype: int64"
      ]
     },
     "execution_count": 561,
     "metadata": {},
     "output_type": "execute_result"
    }
   ],
   "source": [
    "leads_data['What is your current occupation'].value_counts()"
   ]
  },
  {
   "cell_type": "markdown",
   "metadata": {
    "id": "HXMGANIxZ847"
   },
   "source": [
    "Filling null values in the current occupation column as 'Unknown'. Dropping this column wouldn't be ideal as it is looks like an important factor in determining conversion of a lead"
   ]
  },
  {
   "cell_type": "code",
   "execution_count": 562,
   "metadata": {
    "id": "Wd2QmOJHZ847"
   },
   "outputs": [],
   "source": [
    "leads_data['What is your current occupation'] = leads_data['What is your current occupation'].fillna('Unknown')"
   ]
  },
  {
   "cell_type": "markdown",
   "metadata": {
    "id": "EJRAo6_FZ847"
   },
   "source": [
    "Merging Student, Housewife and Businessman categories into Other as they are less in number"
   ]
  },
  {
   "cell_type": "code",
   "execution_count": 563,
   "metadata": {
    "id": "JIfeT_q4Z847"
   },
   "outputs": [],
   "source": [
    "leads_data['What is your current occupation'] = leads_data['What is your current occupation'].apply(lambda x: x.replace('Student', 'Other'))\n",
    "leads_data['What is your current occupation'] = leads_data['What is your current occupation'].apply(lambda x: x.replace('Housewife', 'Other'))\n",
    "leads_data['What is your current occupation'] = leads_data['What is your current occupation'].apply(lambda x: x.replace('Businessman', 'Other'))"
   ]
  },
  {
   "cell_type": "code",
   "execution_count": 564,
   "metadata": {
    "colab": {
     "base_uri": "https://localhost:8080/",
     "height": 240
    },
    "id": "F8qjqmCJZ847",
    "outputId": "dfa8eac5-c933-4684-d20d-40c1c7b5cef6"
   },
   "outputs": [
    {
     "data": {
      "text/plain": [
       "What is your current occupation\n",
       "Unemployed              5502\n",
       "Unknown                 2683\n",
       "Working Professional     679\n",
       "Other                    239\n",
       "Name: count, dtype: int64"
      ]
     },
     "execution_count": 564,
     "metadata": {},
     "output_type": "execute_result"
    }
   ],
   "source": [
    "leads_data['What is your current occupation'].value_counts()"
   ]
  },
  {
   "cell_type": "code",
   "execution_count": 565,
   "metadata": {
    "id": "Cv9JjS4_2p1g"
   },
   "outputs": [],
   "source": [
    "# Creating a dummy variable for the Current Occupation variable and dropping the first one.\n",
    "CO_dummy = pd.get_dummies(leads_data['What is your current occupation'], drop_first=True, dtype=int)\n",
    "\n",
    "leads_data = pd.concat([leads_data, CO_dummy], axis=1)\n",
    "\n",
    "#Dropping original current occupation column\n",
    "\n",
    "leads_data.drop('What is your current occupation', axis = 1, inplace = True)\n",
    "\n",
    "leads_data = leads_data.rename({'Unknown': 'Unknown Employment'}, axis=1)"
   ]
  },
  {
   "cell_type": "markdown",
   "metadata": {
    "id": "S6u1Q1L9QoKP"
   },
   "source": [
    "#### Checking for Outliers"
   ]
  },
  {
   "cell_type": "code",
   "execution_count": 566,
   "metadata": {
    "id": "VvI0uRVTQoKP"
   },
   "outputs": [],
   "source": [
    "# Checking for outliers in the continuous variables\n",
    "num_leads = leads_data[['Total Time Spent on Website','Total Page Views']]"
   ]
  },
  {
   "cell_type": "code",
   "execution_count": 567,
   "metadata": {
    "colab": {
     "base_uri": "https://localhost:8080/",
     "height": 394
    },
    "id": "HTosrrckQoKP",
    "outputId": "8b1b1825-4f01-4199-a622-054f32344ee9"
   },
   "outputs": [
    {
     "data": {
      "text/html": [
       "<div>\n",
       "<style scoped>\n",
       "    .dataframe tbody tr th:only-of-type {\n",
       "        vertical-align: middle;\n",
       "    }\n",
       "\n",
       "    .dataframe tbody tr th {\n",
       "        vertical-align: top;\n",
       "    }\n",
       "\n",
       "    .dataframe thead th {\n",
       "        text-align: right;\n",
       "    }\n",
       "</style>\n",
       "<table border=\"1\" class=\"dataframe\">\n",
       "  <thead>\n",
       "    <tr style=\"text-align: right;\">\n",
       "      <th></th>\n",
       "      <th>Total Time Spent on Website</th>\n",
       "      <th>Total Page Views</th>\n",
       "    </tr>\n",
       "  </thead>\n",
       "  <tbody>\n",
       "    <tr>\n",
       "      <th>count</th>\n",
       "      <td>9103.000000</td>\n",
       "      <td>9103.000000</td>\n",
       "    </tr>\n",
       "    <tr>\n",
       "      <th>mean</th>\n",
       "      <td>481.350104</td>\n",
       "      <td>13.513797</td>\n",
       "    </tr>\n",
       "    <tr>\n",
       "      <th>std</th>\n",
       "      <td>545.066142</td>\n",
       "      <td>42.217059</td>\n",
       "    </tr>\n",
       "    <tr>\n",
       "      <th>min</th>\n",
       "      <td>0.000000</td>\n",
       "      <td>0.000000</td>\n",
       "    </tr>\n",
       "    <tr>\n",
       "      <th>25%</th>\n",
       "      <td>9.000000</td>\n",
       "      <td>1.000000</td>\n",
       "    </tr>\n",
       "    <tr>\n",
       "      <th>50%</th>\n",
       "      <td>244.000000</td>\n",
       "      <td>4.500000</td>\n",
       "    </tr>\n",
       "    <tr>\n",
       "      <th>75%</th>\n",
       "      <td>919.500000</td>\n",
       "      <td>16.000000</td>\n",
       "    </tr>\n",
       "    <tr>\n",
       "      <th>90%</th>\n",
       "      <td>1372.000000</td>\n",
       "      <td>32.000000</td>\n",
       "    </tr>\n",
       "    <tr>\n",
       "      <th>95%</th>\n",
       "      <td>1556.900000</td>\n",
       "      <td>49.000000</td>\n",
       "    </tr>\n",
       "    <tr>\n",
       "      <th>99%</th>\n",
       "      <td>1838.960000</td>\n",
       "      <td>100.000000</td>\n",
       "    </tr>\n",
       "    <tr>\n",
       "      <th>max</th>\n",
       "      <td>2272.000000</td>\n",
       "      <td>3025.000000</td>\n",
       "    </tr>\n",
       "  </tbody>\n",
       "</table>\n",
       "</div>"
      ],
      "text/plain": [
       "       Total Time Spent on Website  Total Page Views\n",
       "count                  9103.000000       9103.000000\n",
       "mean                    481.350104         13.513797\n",
       "std                     545.066142         42.217059\n",
       "min                       0.000000          0.000000\n",
       "25%                       9.000000          1.000000\n",
       "50%                     244.000000          4.500000\n",
       "75%                     919.500000         16.000000\n",
       "90%                    1372.000000         32.000000\n",
       "95%                    1556.900000         49.000000\n",
       "99%                    1838.960000        100.000000\n",
       "max                    2272.000000       3025.000000"
      ]
     },
     "execution_count": 567,
     "metadata": {},
     "output_type": "execute_result"
    }
   ],
   "source": [
    "# Checking outliers at 25%, 50%, 75%, 90%, 95% and 99%\n",
    "num_leads.describe(percentiles=[.25, .5, .75, .90, .95, .99])"
   ]
  },
  {
   "cell_type": "code",
   "execution_count": 568,
   "metadata": {
    "colab": {
     "base_uri": "https://localhost:8080/",
     "height": 334
    },
    "id": "GHrFVWqQ5jnD",
    "outputId": "abe62c40-2cad-4e2e-e0e7-c8af2e86e634"
   },
   "outputs": [
    {
     "data": {
      "text/plain": [
       "count    9103.000000\n",
       "mean       13.513797\n",
       "std        42.217059\n",
       "min         0.000000\n",
       "50%         4.500000\n",
       "99%       100.000000\n",
       "99.5%     138.594000\n",
       "max      3025.000000\n",
       "Name: Total Page Views, dtype: float64"
      ]
     },
     "execution_count": 568,
     "metadata": {},
     "output_type": "execute_result"
    }
   ],
   "source": [
    "#Capping the values of the Total Page Views till 99.5th percentile\n",
    "leads_data['Total Page Views'].describe(percentiles = [.99,.995])"
   ]
  },
  {
   "cell_type": "code",
   "execution_count": 569,
   "metadata": {
    "id": "1WhxqzVC6ihC"
   },
   "outputs": [],
   "source": [
    "leads_data = leads_data[leads_data['Total Page Views']<= 138.594]"
   ]
  },
  {
   "cell_type": "code",
   "execution_count": 570,
   "metadata": {
    "colab": {
     "base_uri": "https://localhost:8080/"
    },
    "id": "fITd-ugT7n0P",
    "outputId": "ce9a909e-1d75-44d3-84cb-829c1c48ee74"
   },
   "outputs": [
    {
     "data": {
      "text/plain": [
       "(9057, 17)"
      ]
     },
     "execution_count": 570,
     "metadata": {},
     "output_type": "execute_result"
    }
   ],
   "source": [
    "leads_data.shape"
   ]
  },
  {
   "cell_type": "code",
   "execution_count": 571,
   "metadata": {
    "colab": {
     "base_uri": "https://localhost:8080/",
     "height": 295
    },
    "id": "Qn5mtCWmZ848",
    "outputId": "8ba10c5e-7f2d-4f31-a191-10af03766dc2",
    "scrolled": true
   },
   "outputs": [
    {
     "data": {
      "text/html": [
       "<div>\n",
       "<style scoped>\n",
       "    .dataframe tbody tr th:only-of-type {\n",
       "        vertical-align: middle;\n",
       "    }\n",
       "\n",
       "    .dataframe tbody tr th {\n",
       "        vertical-align: top;\n",
       "    }\n",
       "\n",
       "    .dataframe thead th {\n",
       "        text-align: right;\n",
       "    }\n",
       "</style>\n",
       "<table border=\"1\" class=\"dataframe\">\n",
       "  <thead>\n",
       "    <tr style=\"text-align: right;\">\n",
       "      <th></th>\n",
       "      <th>Lead Number</th>\n",
       "      <th>Do Not Email</th>\n",
       "      <th>Do Not Call</th>\n",
       "      <th>Converted</th>\n",
       "      <th>Total Time Spent on Website</th>\n",
       "      <th>Search</th>\n",
       "      <th>Digital Advertisement</th>\n",
       "      <th>Through Recommendations</th>\n",
       "      <th>Update me on Supply Chain Content</th>\n",
       "      <th>A free copy of Mastering The Interview</th>\n",
       "      <th>Total Page Views</th>\n",
       "      <th>Landing Page Submission</th>\n",
       "      <th>Lead Add Form</th>\n",
       "      <th>Lead Import</th>\n",
       "      <th>Unemployed</th>\n",
       "      <th>Unknown Employment</th>\n",
       "      <th>Working Professional</th>\n",
       "    </tr>\n",
       "  </thead>\n",
       "  <tbody>\n",
       "    <tr>\n",
       "      <th>0</th>\n",
       "      <td>660737</td>\n",
       "      <td>0</td>\n",
       "      <td>0</td>\n",
       "      <td>0</td>\n",
       "      <td>0</td>\n",
       "      <td>0</td>\n",
       "      <td>0</td>\n",
       "      <td>0</td>\n",
       "      <td>0</td>\n",
       "      <td>0</td>\n",
       "      <td>0.0</td>\n",
       "      <td>0</td>\n",
       "      <td>0</td>\n",
       "      <td>0</td>\n",
       "      <td>1</td>\n",
       "      <td>0</td>\n",
       "      <td>0</td>\n",
       "    </tr>\n",
       "    <tr>\n",
       "      <th>1</th>\n",
       "      <td>660728</td>\n",
       "      <td>0</td>\n",
       "      <td>0</td>\n",
       "      <td>0</td>\n",
       "      <td>674</td>\n",
       "      <td>0</td>\n",
       "      <td>0</td>\n",
       "      <td>0</td>\n",
       "      <td>0</td>\n",
       "      <td>0</td>\n",
       "      <td>12.5</td>\n",
       "      <td>0</td>\n",
       "      <td>0</td>\n",
       "      <td>0</td>\n",
       "      <td>1</td>\n",
       "      <td>0</td>\n",
       "      <td>0</td>\n",
       "    </tr>\n",
       "    <tr>\n",
       "      <th>2</th>\n",
       "      <td>660727</td>\n",
       "      <td>0</td>\n",
       "      <td>0</td>\n",
       "      <td>1</td>\n",
       "      <td>1532</td>\n",
       "      <td>0</td>\n",
       "      <td>0</td>\n",
       "      <td>0</td>\n",
       "      <td>0</td>\n",
       "      <td>1</td>\n",
       "      <td>4.0</td>\n",
       "      <td>1</td>\n",
       "      <td>0</td>\n",
       "      <td>0</td>\n",
       "      <td>0</td>\n",
       "      <td>0</td>\n",
       "      <td>0</td>\n",
       "    </tr>\n",
       "    <tr>\n",
       "      <th>3</th>\n",
       "      <td>660719</td>\n",
       "      <td>0</td>\n",
       "      <td>0</td>\n",
       "      <td>0</td>\n",
       "      <td>305</td>\n",
       "      <td>0</td>\n",
       "      <td>0</td>\n",
       "      <td>0</td>\n",
       "      <td>0</td>\n",
       "      <td>0</td>\n",
       "      <td>1.0</td>\n",
       "      <td>1</td>\n",
       "      <td>0</td>\n",
       "      <td>0</td>\n",
       "      <td>1</td>\n",
       "      <td>0</td>\n",
       "      <td>0</td>\n",
       "    </tr>\n",
       "    <tr>\n",
       "      <th>4</th>\n",
       "      <td>660681</td>\n",
       "      <td>0</td>\n",
       "      <td>0</td>\n",
       "      <td>1</td>\n",
       "      <td>1428</td>\n",
       "      <td>0</td>\n",
       "      <td>0</td>\n",
       "      <td>0</td>\n",
       "      <td>0</td>\n",
       "      <td>0</td>\n",
       "      <td>2.0</td>\n",
       "      <td>1</td>\n",
       "      <td>0</td>\n",
       "      <td>0</td>\n",
       "      <td>1</td>\n",
       "      <td>0</td>\n",
       "      <td>0</td>\n",
       "    </tr>\n",
       "  </tbody>\n",
       "</table>\n",
       "</div>"
      ],
      "text/plain": [
       "   Lead Number  Do Not Email  Do Not Call  Converted  \\\n",
       "0       660737             0            0          0   \n",
       "1       660728             0            0          0   \n",
       "2       660727             0            0          1   \n",
       "3       660719             0            0          0   \n",
       "4       660681             0            0          1   \n",
       "\n",
       "   Total Time Spent on Website  Search  Digital Advertisement  \\\n",
       "0                            0       0                      0   \n",
       "1                          674       0                      0   \n",
       "2                         1532       0                      0   \n",
       "3                          305       0                      0   \n",
       "4                         1428       0                      0   \n",
       "\n",
       "   Through Recommendations  Update me on Supply Chain Content  \\\n",
       "0                        0                                  0   \n",
       "1                        0                                  0   \n",
       "2                        0                                  0   \n",
       "3                        0                                  0   \n",
       "4                        0                                  0   \n",
       "\n",
       "   A free copy of Mastering The Interview  Total Page Views  \\\n",
       "0                                       0               0.0   \n",
       "1                                       0              12.5   \n",
       "2                                       1               4.0   \n",
       "3                                       0               1.0   \n",
       "4                                       0               2.0   \n",
       "\n",
       "   Landing Page Submission  Lead Add Form  Lead Import  Unemployed  \\\n",
       "0                        0              0            0           1   \n",
       "1                        0              0            0           1   \n",
       "2                        1              0            0           0   \n",
       "3                        1              0            0           1   \n",
       "4                        1              0            0           1   \n",
       "\n",
       "   Unknown Employment  Working Professional  \n",
       "0                   0                     0  \n",
       "1                   0                     0  \n",
       "2                   0                     0  \n",
       "3                   0                     0  \n",
       "4                   0                     0  "
      ]
     },
     "execution_count": 571,
     "metadata": {},
     "output_type": "execute_result"
    }
   ],
   "source": [
    "leads_data.head()"
   ]
  },
  {
   "cell_type": "markdown",
   "metadata": {
    "id": "Od_BQg_GQoKS"
   },
   "source": [
    "### Step 3: Test-Train Split"
   ]
  },
  {
   "cell_type": "code",
   "execution_count": 572,
   "metadata": {
    "id": "lF2FeumbQoKS"
   },
   "outputs": [],
   "source": [
    "from sklearn.model_selection import train_test_split"
   ]
  },
  {
   "cell_type": "code",
   "execution_count": 573,
   "metadata": {
    "colab": {
     "base_uri": "https://localhost:8080/",
     "height": 295
    },
    "id": "ct-a4Fh8QoKT",
    "outputId": "231f505a-107d-4a4a-e9aa-4c7f0d00365b"
   },
   "outputs": [
    {
     "data": {
      "text/html": [
       "<div>\n",
       "<style scoped>\n",
       "    .dataframe tbody tr th:only-of-type {\n",
       "        vertical-align: middle;\n",
       "    }\n",
       "\n",
       "    .dataframe tbody tr th {\n",
       "        vertical-align: top;\n",
       "    }\n",
       "\n",
       "    .dataframe thead th {\n",
       "        text-align: right;\n",
       "    }\n",
       "</style>\n",
       "<table border=\"1\" class=\"dataframe\">\n",
       "  <thead>\n",
       "    <tr style=\"text-align: right;\">\n",
       "      <th></th>\n",
       "      <th>Do Not Email</th>\n",
       "      <th>Do Not Call</th>\n",
       "      <th>Total Time Spent on Website</th>\n",
       "      <th>Search</th>\n",
       "      <th>Digital Advertisement</th>\n",
       "      <th>Through Recommendations</th>\n",
       "      <th>Update me on Supply Chain Content</th>\n",
       "      <th>A free copy of Mastering The Interview</th>\n",
       "      <th>Total Page Views</th>\n",
       "      <th>Landing Page Submission</th>\n",
       "      <th>Lead Add Form</th>\n",
       "      <th>Lead Import</th>\n",
       "      <th>Unemployed</th>\n",
       "      <th>Unknown Employment</th>\n",
       "      <th>Working Professional</th>\n",
       "    </tr>\n",
       "  </thead>\n",
       "  <tbody>\n",
       "    <tr>\n",
       "      <th>0</th>\n",
       "      <td>0</td>\n",
       "      <td>0</td>\n",
       "      <td>0</td>\n",
       "      <td>0</td>\n",
       "      <td>0</td>\n",
       "      <td>0</td>\n",
       "      <td>0</td>\n",
       "      <td>0</td>\n",
       "      <td>0.0</td>\n",
       "      <td>0</td>\n",
       "      <td>0</td>\n",
       "      <td>0</td>\n",
       "      <td>1</td>\n",
       "      <td>0</td>\n",
       "      <td>0</td>\n",
       "    </tr>\n",
       "    <tr>\n",
       "      <th>1</th>\n",
       "      <td>0</td>\n",
       "      <td>0</td>\n",
       "      <td>674</td>\n",
       "      <td>0</td>\n",
       "      <td>0</td>\n",
       "      <td>0</td>\n",
       "      <td>0</td>\n",
       "      <td>0</td>\n",
       "      <td>12.5</td>\n",
       "      <td>0</td>\n",
       "      <td>0</td>\n",
       "      <td>0</td>\n",
       "      <td>1</td>\n",
       "      <td>0</td>\n",
       "      <td>0</td>\n",
       "    </tr>\n",
       "    <tr>\n",
       "      <th>2</th>\n",
       "      <td>0</td>\n",
       "      <td>0</td>\n",
       "      <td>1532</td>\n",
       "      <td>0</td>\n",
       "      <td>0</td>\n",
       "      <td>0</td>\n",
       "      <td>0</td>\n",
       "      <td>1</td>\n",
       "      <td>4.0</td>\n",
       "      <td>1</td>\n",
       "      <td>0</td>\n",
       "      <td>0</td>\n",
       "      <td>0</td>\n",
       "      <td>0</td>\n",
       "      <td>0</td>\n",
       "    </tr>\n",
       "    <tr>\n",
       "      <th>3</th>\n",
       "      <td>0</td>\n",
       "      <td>0</td>\n",
       "      <td>305</td>\n",
       "      <td>0</td>\n",
       "      <td>0</td>\n",
       "      <td>0</td>\n",
       "      <td>0</td>\n",
       "      <td>0</td>\n",
       "      <td>1.0</td>\n",
       "      <td>1</td>\n",
       "      <td>0</td>\n",
       "      <td>0</td>\n",
       "      <td>1</td>\n",
       "      <td>0</td>\n",
       "      <td>0</td>\n",
       "    </tr>\n",
       "    <tr>\n",
       "      <th>4</th>\n",
       "      <td>0</td>\n",
       "      <td>0</td>\n",
       "      <td>1428</td>\n",
       "      <td>0</td>\n",
       "      <td>0</td>\n",
       "      <td>0</td>\n",
       "      <td>0</td>\n",
       "      <td>0</td>\n",
       "      <td>2.0</td>\n",
       "      <td>1</td>\n",
       "      <td>0</td>\n",
       "      <td>0</td>\n",
       "      <td>1</td>\n",
       "      <td>0</td>\n",
       "      <td>0</td>\n",
       "    </tr>\n",
       "  </tbody>\n",
       "</table>\n",
       "</div>"
      ],
      "text/plain": [
       "   Do Not Email  Do Not Call  Total Time Spent on Website  Search  \\\n",
       "0             0            0                            0       0   \n",
       "1             0            0                          674       0   \n",
       "2             0            0                         1532       0   \n",
       "3             0            0                          305       0   \n",
       "4             0            0                         1428       0   \n",
       "\n",
       "   Digital Advertisement  Through Recommendations  \\\n",
       "0                      0                        0   \n",
       "1                      0                        0   \n",
       "2                      0                        0   \n",
       "3                      0                        0   \n",
       "4                      0                        0   \n",
       "\n",
       "   Update me on Supply Chain Content  A free copy of Mastering The Interview  \\\n",
       "0                                  0                                       0   \n",
       "1                                  0                                       0   \n",
       "2                                  0                                       1   \n",
       "3                                  0                                       0   \n",
       "4                                  0                                       0   \n",
       "\n",
       "   Total Page Views  Landing Page Submission  Lead Add Form  Lead Import  \\\n",
       "0               0.0                        0              0            0   \n",
       "1              12.5                        0              0            0   \n",
       "2               4.0                        1              0            0   \n",
       "3               1.0                        1              0            0   \n",
       "4               2.0                        1              0            0   \n",
       "\n",
       "   Unemployed  Unknown Employment  Working Professional  \n",
       "0           1                   0                     0  \n",
       "1           1                   0                     0  \n",
       "2           0                   0                     0  \n",
       "3           1                   0                     0  \n",
       "4           1                   0                     0  "
      ]
     },
     "execution_count": 573,
     "metadata": {},
     "output_type": "execute_result"
    }
   ],
   "source": [
    "# Putting feature vector into X\n",
    "X = leads_data.drop(['Lead Number','Converted'], axis=1)\n",
    "X.head()"
   ]
  },
  {
   "cell_type": "code",
   "execution_count": 574,
   "metadata": {
    "colab": {
     "base_uri": "https://localhost:8080/",
     "height": 240
    },
    "id": "6XjZsAenQoKf",
    "outputId": "01981483-ff17-4dd4-9f29-7cdc4a2ed646",
    "scrolled": true
   },
   "outputs": [
    {
     "data": {
      "text/plain": [
       "0    0\n",
       "1    0\n",
       "2    1\n",
       "3    0\n",
       "4    1\n",
       "Name: Converted, dtype: int64"
      ]
     },
     "execution_count": 574,
     "metadata": {},
     "output_type": "execute_result"
    }
   ],
   "source": [
    "# Putting response variable to y\n",
    "y = leads_data['Converted']\n",
    "y.head()"
   ]
  },
  {
   "cell_type": "markdown",
   "metadata": {
    "id": "4hGmOSfWQoKg"
   },
   "source": [
    "### Step 4: Feature Scaling"
   ]
  },
  {
   "cell_type": "code",
   "execution_count": 575,
   "metadata": {
    "id": "qK1cdRjrQoKg"
   },
   "outputs": [],
   "source": [
    "from sklearn.preprocessing import StandardScaler\n",
    "\n",
    "from sklearn.model_selection import train_test_split"
   ]
  },
  {
   "cell_type": "code",
   "execution_count": 576,
   "metadata": {
    "id": "zLTv5HsVAZN0"
   },
   "outputs": [],
   "source": [
    "# Splitting the data into train and test\n",
    "X_train, X_test, y_train, y_test = train_test_split(X, y, train_size=0.7, test_size=0.3, random_state=100)"
   ]
  },
  {
   "cell_type": "code",
   "execution_count": 577,
   "metadata": {
    "colab": {
     "base_uri": "https://localhost:8080/",
     "height": 295
    },
    "id": "Y5NCiDrPQoKh",
    "outputId": "10b298a3-eb84-4f13-948e-6731a38cf996"
   },
   "outputs": [
    {
     "data": {
      "text/html": [
       "<div>\n",
       "<style scoped>\n",
       "    .dataframe tbody tr th:only-of-type {\n",
       "        vertical-align: middle;\n",
       "    }\n",
       "\n",
       "    .dataframe tbody tr th {\n",
       "        vertical-align: top;\n",
       "    }\n",
       "\n",
       "    .dataframe thead th {\n",
       "        text-align: right;\n",
       "    }\n",
       "</style>\n",
       "<table border=\"1\" class=\"dataframe\">\n",
       "  <thead>\n",
       "    <tr style=\"text-align: right;\">\n",
       "      <th></th>\n",
       "      <th>Do Not Email</th>\n",
       "      <th>Do Not Call</th>\n",
       "      <th>Total Time Spent on Website</th>\n",
       "      <th>Search</th>\n",
       "      <th>Digital Advertisement</th>\n",
       "      <th>Through Recommendations</th>\n",
       "      <th>Update me on Supply Chain Content</th>\n",
       "      <th>A free copy of Mastering The Interview</th>\n",
       "      <th>Total Page Views</th>\n",
       "      <th>Landing Page Submission</th>\n",
       "      <th>Lead Add Form</th>\n",
       "      <th>Lead Import</th>\n",
       "      <th>Unemployed</th>\n",
       "      <th>Unknown Employment</th>\n",
       "      <th>Working Professional</th>\n",
       "    </tr>\n",
       "  </thead>\n",
       "  <tbody>\n",
       "    <tr>\n",
       "      <th>2257</th>\n",
       "      <td>0</td>\n",
       "      <td>0</td>\n",
       "      <td>-0.252053</td>\n",
       "      <td>0</td>\n",
       "      <td>0</td>\n",
       "      <td>0</td>\n",
       "      <td>0</td>\n",
       "      <td>0</td>\n",
       "      <td>0.243653</td>\n",
       "      <td>1</td>\n",
       "      <td>0</td>\n",
       "      <td>0</td>\n",
       "      <td>1</td>\n",
       "      <td>0</td>\n",
       "      <td>0</td>\n",
       "    </tr>\n",
       "    <tr>\n",
       "      <th>3630</th>\n",
       "      <td>0</td>\n",
       "      <td>0</td>\n",
       "      <td>-0.886034</td>\n",
       "      <td>0</td>\n",
       "      <td>0</td>\n",
       "      <td>0</td>\n",
       "      <td>0</td>\n",
       "      <td>0</td>\n",
       "      <td>-0.713046</td>\n",
       "      <td>0</td>\n",
       "      <td>0</td>\n",
       "      <td>0</td>\n",
       "      <td>1</td>\n",
       "      <td>0</td>\n",
       "      <td>0</td>\n",
       "    </tr>\n",
       "    <tr>\n",
       "      <th>2205</th>\n",
       "      <td>0</td>\n",
       "      <td>0</td>\n",
       "      <td>-0.246556</td>\n",
       "      <td>0</td>\n",
       "      <td>0</td>\n",
       "      <td>0</td>\n",
       "      <td>0</td>\n",
       "      <td>1</td>\n",
       "      <td>-0.174903</td>\n",
       "      <td>1</td>\n",
       "      <td>0</td>\n",
       "      <td>0</td>\n",
       "      <td>1</td>\n",
       "      <td>0</td>\n",
       "      <td>0</td>\n",
       "    </tr>\n",
       "    <tr>\n",
       "      <th>7809</th>\n",
       "      <td>0</td>\n",
       "      <td>0</td>\n",
       "      <td>-0.840226</td>\n",
       "      <td>0</td>\n",
       "      <td>0</td>\n",
       "      <td>0</td>\n",
       "      <td>0</td>\n",
       "      <td>0</td>\n",
       "      <td>-0.473871</td>\n",
       "      <td>0</td>\n",
       "      <td>0</td>\n",
       "      <td>0</td>\n",
       "      <td>1</td>\n",
       "      <td>0</td>\n",
       "      <td>0</td>\n",
       "    </tr>\n",
       "    <tr>\n",
       "      <th>1619</th>\n",
       "      <td>0</td>\n",
       "      <td>0</td>\n",
       "      <td>2.001693</td>\n",
       "      <td>0</td>\n",
       "      <td>0</td>\n",
       "      <td>0</td>\n",
       "      <td>0</td>\n",
       "      <td>0</td>\n",
       "      <td>-0.473871</td>\n",
       "      <td>0</td>\n",
       "      <td>0</td>\n",
       "      <td>0</td>\n",
       "      <td>1</td>\n",
       "      <td>0</td>\n",
       "      <td>0</td>\n",
       "    </tr>\n",
       "  </tbody>\n",
       "</table>\n",
       "</div>"
      ],
      "text/plain": [
       "      Do Not Email  Do Not Call  Total Time Spent on Website  Search  \\\n",
       "2257             0            0                    -0.252053       0   \n",
       "3630             0            0                    -0.886034       0   \n",
       "2205             0            0                    -0.246556       0   \n",
       "7809             0            0                    -0.840226       0   \n",
       "1619             0            0                     2.001693       0   \n",
       "\n",
       "      Digital Advertisement  Through Recommendations  \\\n",
       "2257                      0                        0   \n",
       "3630                      0                        0   \n",
       "2205                      0                        0   \n",
       "7809                      0                        0   \n",
       "1619                      0                        0   \n",
       "\n",
       "      Update me on Supply Chain Content  \\\n",
       "2257                                  0   \n",
       "3630                                  0   \n",
       "2205                                  0   \n",
       "7809                                  0   \n",
       "1619                                  0   \n",
       "\n",
       "      A free copy of Mastering The Interview  Total Page Views  \\\n",
       "2257                                       0          0.243653   \n",
       "3630                                       0         -0.713046   \n",
       "2205                                       1         -0.174903   \n",
       "7809                                       0         -0.473871   \n",
       "1619                                       0         -0.473871   \n",
       "\n",
       "      Landing Page Submission  Lead Add Form  Lead Import  Unemployed  \\\n",
       "2257                        1              0            0           1   \n",
       "3630                        0              0            0           1   \n",
       "2205                        1              0            0           1   \n",
       "7809                        0              0            0           1   \n",
       "1619                        0              0            0           1   \n",
       "\n",
       "      Unknown Employment  Working Professional  \n",
       "2257                   0                     0  \n",
       "3630                   0                     0  \n",
       "2205                   0                     0  \n",
       "7809                   0                     0  \n",
       "1619                   0                     0  "
      ]
     },
     "execution_count": 577,
     "metadata": {},
     "output_type": "execute_result"
    }
   ],
   "source": [
    "scaler = StandardScaler()\n",
    "\n",
    "X_train[['Total Time Spent on Website','Total Page Views']] = scaler.fit_transform(X_train[['Total Time Spent on Website','Total Page Views']])\n",
    "X_test[['Total Time Spent on Website','Total Page Views']] = scaler.fit_transform(X_test[['Total Time Spent on Website','Total Page Views']])\n",
    "\n",
    "X_train.head()"
   ]
  },
  {
   "cell_type": "code",
   "execution_count": 578,
   "metadata": {
    "colab": {
     "base_uri": "https://localhost:8080/"
    },
    "id": "EkJan80LQoKh",
    "outputId": "0e81ed50-ed06-409a-bba0-f7f9eab2f59c"
   },
   "outputs": [
    {
     "data": {
      "text/plain": [
       "38.03687755327371"
      ]
     },
     "execution_count": 578,
     "metadata": {},
     "output_type": "execute_result"
    }
   ],
   "source": [
    "### Checking the conversion Rate\n",
    "conversion = (sum(leads_data['Converted'])/len(leads_data['Converted'].index))*100\n",
    "conversion"
   ]
  },
  {
   "cell_type": "markdown",
   "metadata": {
    "id": "26nHmGZRQoKi"
   },
   "source": [
    "We have a little over 38% conversion rate"
   ]
  },
  {
   "cell_type": "markdown",
   "metadata": {
    "id": "Jje0NevvQoKi"
   },
   "source": [
    "### Step 5: Looking at Correlations"
   ]
  },
  {
   "cell_type": "code",
   "execution_count": 579,
   "metadata": {
    "id": "p9hp28QdQoKj"
   },
   "outputs": [],
   "source": [
    "# Importing matplotlib and seaborn\n",
    "import matplotlib.pyplot as plt\n",
    "import seaborn as sns\n",
    "%matplotlib inline"
   ]
  },
  {
   "cell_type": "code",
   "execution_count": 580,
   "metadata": {
    "colab": {
     "base_uri": "https://localhost:8080/",
     "height": 485
    },
    "id": "Wc6LlRL9QoKj",
    "outputId": "bd4761a6-5497-4779-dbab-82d20f4e98f1"
   },
   "outputs": [
    {
     "data": {
      "image/png": "[encoded data removed]",
      "text/plain": [
       "<Figure size 2000x1000 with 2 Axes>"
      ]
     },
     "metadata": {},
     "output_type": "display_data"
    }
   ],
   "source": [
    "# Let's see the correlation matrix\n",
    "plt.figure(figsize = (20,10))        # Size of the figure\n",
    "sns.heatmap(leads_data.corr(),annot = True, cmap = 'YlGnBu')\n",
    "plt.show()"
   ]
  },
  {
   "cell_type": "markdown",
   "metadata": {
    "id": "k5eyKsi1Z84_"
   },
   "source": [
    "Not dropping any of the above features as correlations are less in value"
   ]
  },
  {
   "cell_type": "markdown",
   "metadata": {
    "id": "R0LmPb8CHmBy"
   },
   "source": [
    "### Step 6: Model Building"
   ]
  },
  {
   "cell_type": "code",
   "execution_count": 581,
   "metadata": {
    "id": "FUhKG_p7HlSd"
   },
   "outputs": [],
   "source": [
    "import statsmodels.api as sm"
   ]
  },
  {
   "cell_type": "code",
   "execution_count": 582,
   "metadata": {
    "id": "usyuumvBJyNj"
   },
   "outputs": [],
   "source": [
    "X_train = sm.add_constant(X_train)"
   ]
  },
  {
   "cell_type": "code",
   "execution_count": 583,
   "metadata": {
    "colab": {
     "base_uri": "https://localhost:8080/",
     "height": 588
    },
    "id": "z3SVxWcxIjus",
    "outputId": "fde69997-e120-489c-a796-3f1b7a0672e7"
   },
   "outputs": [
    {
     "data": {
      "text/html": [
       "<table class=\"simpletable\">\n",
       "<caption>Generalized Linear Model Regression Results</caption>\n",
       "<tr>\n",
       "  <th>Dep. Variable:</th>       <td>Converted</td>    <th>  No. Observations:  </th>  <td>  6339</td> \n",
       "</tr>\n",
       "<tr>\n",
       "  <th>Model:</th>                  <td>GLM</td>       <th>  Df Residuals:      </th>  <td>  6324</td> \n",
       "</tr>\n",
       "<tr>\n",
       "  <th>Model Family:</th>        <td>Binomial</td>     <th>  Df Model:          </th>  <td>    14</td> \n",
       "</tr>\n",
       "<tr>\n",
       "  <th>Link Function:</th>         <td>Logit</td>      <th>  Scale:             </th> <td>  1.0000</td>\n",
       "</tr>\n",
       "<tr>\n",
       "  <th>Method:</th>                <td>IRLS</td>       <th>  Log-Likelihood:    </th> <td> -2880.0</td>\n",
       "</tr>\n",
       "<tr>\n",
       "  <th>Date:</th>            <td>Sun, 15 Dec 2024</td> <th>  Deviance:          </th> <td>  5760.0</td>\n",
       "</tr>\n",
       "<tr>\n",
       "  <th>Time:</th>                <td>13:54:26</td>     <th>  Pearson chi2:      </th> <td>6.41e+03</td>\n",
       "</tr>\n",
       "<tr>\n",
       "  <th>No. Iterations:</th>         <td>19</td>        <th>  Pseudo R-squ. (CS):</th>  <td>0.3434</td> \n",
       "</tr>\n",
       "<tr>\n",
       "  <th>Covariance Type:</th>     <td>nonrobust</td>    <th>                     </th>     <td> </td>   \n",
       "</tr>\n",
       "</table>\n",
       "<table class=\"simpletable\">\n",
       "<tr>\n",
       "                     <td></td>                       <th>coef</th>     <th>std err</th>      <th>z</th>      <th>P>|z|</th>  <th>[0.025</th>    <th>0.975]</th>  \n",
       "</tr>\n",
       "<tr>\n",
       "  <th>const</th>                                  <td>   -0.3698</td> <td>    0.194</td> <td>   -1.910</td> <td> 0.056</td> <td>   -0.749</td> <td>    0.010</td>\n",
       "</tr>\n",
       "<tr>\n",
       "  <th>Do Not Email</th>                           <td>   -1.4220</td> <td>    0.163</td> <td>   -8.741</td> <td> 0.000</td> <td>   -1.741</td> <td>   -1.103</td>\n",
       "</tr>\n",
       "<tr>\n",
       "  <th>Do Not Call</th>                            <td>   18.5922</td> <td> 1.23e+04</td> <td>    0.002</td> <td> 0.999</td> <td>-2.41e+04</td> <td> 2.41e+04</td>\n",
       "</tr>\n",
       "<tr>\n",
       "  <th>Total Time Spent on Website</th>            <td>    0.9804</td> <td>    0.035</td> <td>   28.140</td> <td> 0.000</td> <td>    0.912</td> <td>    1.049</td>\n",
       "</tr>\n",
       "<tr>\n",
       "  <th>Search</th>                                 <td>   -0.3131</td> <td>    0.824</td> <td>   -0.380</td> <td> 0.704</td> <td>   -1.927</td> <td>    1.301</td>\n",
       "</tr>\n",
       "<tr>\n",
       "  <th>Digital Advertisement</th>                  <td>   -0.5044</td> <td>    1.555</td> <td>   -0.324</td> <td> 0.746</td> <td>   -3.552</td> <td>    2.543</td>\n",
       "</tr>\n",
       "<tr>\n",
       "  <th>Through Recommendations</th>                <td>    0.7218</td> <td>    1.938</td> <td>    0.372</td> <td> 0.710</td> <td>   -3.077</td> <td>    4.520</td>\n",
       "</tr>\n",
       "<tr>\n",
       "  <th>Update me on Supply Chain Content</th>      <td> 9.221e-11</td> <td>  6.1e-08</td> <td>    0.002</td> <td> 0.999</td> <td>-1.19e-07</td> <td>  1.2e-07</td>\n",
       "</tr>\n",
       "<tr>\n",
       "  <th>A free copy of Mastering The Interview</th> <td>   -0.1986</td> <td>    0.083</td> <td>   -2.404</td> <td> 0.016</td> <td>   -0.361</td> <td>   -0.037</td>\n",
       "</tr>\n",
       "<tr>\n",
       "  <th>Total Page Views</th>                       <td>    0.0516</td> <td>    0.034</td> <td>    1.535</td> <td> 0.125</td> <td>   -0.014</td> <td>    0.118</td>\n",
       "</tr>\n",
       "<tr>\n",
       "  <th>Landing Page Submission</th>                <td>   -0.3111</td> <td>    0.083</td> <td>   -3.729</td> <td> 0.000</td> <td>   -0.475</td> <td>   -0.148</td>\n",
       "</tr>\n",
       "<tr>\n",
       "  <th>Lead Add Form</th>                          <td>    3.8030</td> <td>    0.218</td> <td>   17.413</td> <td> 0.000</td> <td>    3.375</td> <td>    4.231</td>\n",
       "</tr>\n",
       "<tr>\n",
       "  <th>Lead Import</th>                            <td>    0.4928</td> <td>    0.453</td> <td>    1.088</td> <td> 0.277</td> <td>   -0.395</td> <td>    1.380</td>\n",
       "</tr>\n",
       "<tr>\n",
       "  <th>Unemployed</th>                             <td>    0.0687</td> <td>    0.193</td> <td>    0.356</td> <td> 0.722</td> <td>   -0.310</td> <td>    0.447</td>\n",
       "</tr>\n",
       "<tr>\n",
       "  <th>Unknown Employment</th>                     <td>   -1.1878</td> <td>    0.203</td> <td>   -5.862</td> <td> 0.000</td> <td>   -1.585</td> <td>   -0.791</td>\n",
       "</tr>\n",
       "<tr>\n",
       "  <th>Working Professional</th>                   <td>    2.5281</td> <td>    0.258</td> <td>    9.789</td> <td> 0.000</td> <td>    2.022</td> <td>    3.034</td>\n",
       "</tr>\n",
       "</table>"
      ],
      "text/latex": [
       "\\begin{center}\n",
       "\\begin{tabular}{lclc}\n",
       "\\toprule\n",
       "\\textbf{Dep. Variable:}                         &    Converted     & \\textbf{  No. Observations:  } &     6339    \\\\\n",
       "\\textbf{Model:}                                 &       GLM        & \\textbf{  Df Residuals:      } &     6324    \\\\\n",
       "\\textbf{Model Family:}                          &     Binomial     & \\textbf{  Df Model:          } &       14    \\\\\n",
       "\\textbf{Link Function:}                         &      Logit       & \\textbf{  Scale:             } &    1.0000   \\\\\n",
       "\\textbf{Method:}                                &       IRLS       & \\textbf{  Log-Likelihood:    } &   -2880.0   \\\\\n",
       "\\textbf{Date:}                                  & Sun, 15 Dec 2024 & \\textbf{  Deviance:          } &    5760.0   \\\\\n",
       "\\textbf{Time:}                                  &     13:54:26     & \\textbf{  Pearson chi2:      } &  6.41e+03   \\\\\n",
       "\\textbf{No. Iterations:}                        &        19        & \\textbf{  Pseudo R-squ. (CS):} &   0.3434    \\\\\n",
       "\\textbf{Covariance Type:}                       &    nonrobust     & \\textbf{                     } &             \\\\\n",
       "\\bottomrule\n",
       "\\end{tabular}\n",
       "\\begin{tabular}{lcccccc}\n",
       "                                                & \\textbf{coef} & \\textbf{std err} & \\textbf{z} & \\textbf{P$> |$z$|$} & \\textbf{[0.025} & \\textbf{0.975]}  \\\\\n",
       "\\midrule\n",
       "\\textbf{const}                                  &      -0.3698  &        0.194     &    -1.910  &         0.056        &       -0.749    &        0.010     \\\\\n",
       "\\textbf{Do Not Email}                           &      -1.4220  &        0.163     &    -8.741  &         0.000        &       -1.741    &       -1.103     \\\\\n",
       "\\textbf{Do Not Call}                            &      18.5922  &     1.23e+04     &     0.002  &         0.999        &    -2.41e+04    &     2.41e+04     \\\\\n",
       "\\textbf{Total Time Spent on Website}            &       0.9804  &        0.035     &    28.140  &         0.000        &        0.912    &        1.049     \\\\\n",
       "\\textbf{Search}                                 &      -0.3131  &        0.824     &    -0.380  &         0.704        &       -1.927    &        1.301     \\\\\n",
       "\\textbf{Digital Advertisement}                  &      -0.5044  &        1.555     &    -0.324  &         0.746        &       -3.552    &        2.543     \\\\\n",
       "\\textbf{Through Recommendations}                &       0.7218  &        1.938     &     0.372  &         0.710        &       -3.077    &        4.520     \\\\\n",
       "\\textbf{Update me on Supply Chain Content}      &    9.221e-11  &      6.1e-08     &     0.002  &         0.999        &    -1.19e-07    &      1.2e-07     \\\\\n",
       "\\textbf{A free copy of Mastering The Interview} &      -0.1986  &        0.083     &    -2.404  &         0.016        &       -0.361    &       -0.037     \\\\\n",
       "\\textbf{Total Page Views}                       &       0.0516  &        0.034     &     1.535  &         0.125        &       -0.014    &        0.118     \\\\\n",
       "\\textbf{Landing Page Submission}                &      -0.3111  &        0.083     &    -3.729  &         0.000        &       -0.475    &       -0.148     \\\\\n",
       "\\textbf{Lead Add Form}                          &       3.8030  &        0.218     &    17.413  &         0.000        &        3.375    &        4.231     \\\\\n",
       "\\textbf{Lead Import}                            &       0.4928  &        0.453     &     1.088  &         0.277        &       -0.395    &        1.380     \\\\\n",
       "\\textbf{Unemployed}                             &       0.0687  &        0.193     &     0.356  &         0.722        &       -0.310    &        0.447     \\\\\n",
       "\\textbf{Unknown Employment}                     &      -1.1878  &        0.203     &    -5.862  &         0.000        &       -1.585    &       -0.791     \\\\\n",
       "\\textbf{Working Professional}                   &       2.5281  &        0.258     &     9.789  &         0.000        &        2.022    &        3.034     \\\\\n",
       "\\bottomrule\n",
       "\\end{tabular}\n",
       "%\\caption{Generalized Linear Model Regression Results}\n",
       "\\end{center}"
      ],
      "text/plain": [
       "<class 'statsmodels.iolib.summary.Summary'>\n",
       "\"\"\"\n",
       "                 Generalized Linear Model Regression Results                  \n",
       "==============================================================================\n",
       "Dep. Variable:              Converted   No. Observations:                 6339\n",
       "Model:                            GLM   Df Residuals:                     6324\n",
       "Model Family:                Binomial   Df Model:                           14\n",
       "Link Function:                  Logit   Scale:                          1.0000\n",
       "Method:                          IRLS   Log-Likelihood:                -2880.0\n",
       "Date:                Sun, 15 Dec 2024   Deviance:                       5760.0\n",
       "Time:                        13:54:26   Pearson chi2:                 6.41e+03\n",
       "No. Iterations:                    19   Pseudo R-squ. (CS):             0.3434\n",
       "Covariance Type:            nonrobust                                         \n",
       "==========================================================================================================\n",
       "                                             coef    std err          z      P>|z|      [0.025      0.975]\n",
       "----------------------------------------------------------------------------------------------------------\n",
       "const                                     -0.3698      0.194     -1.910      0.056      -0.749       0.010\n",
       "Do Not Email                              -1.4220      0.163     -8.741      0.000      -1.741      -1.103\n",
       "Do Not Call                               18.5922   1.23e+04      0.002      0.999   -2.41e+04    2.41e+04\n",
       "Total Time Spent on Website                0.9804      0.035     28.140      0.000       0.912       1.049\n",
       "Search                                    -0.3131      0.824     -0.380      0.704      -1.927       1.301\n",
       "Digital Advertisement                     -0.5044      1.555     -0.324      0.746      -3.552       2.543\n",
       "Through Recommendations                    0.7218      1.938      0.372      0.710      -3.077       4.520\n",
       "Update me on Supply Chain Content       9.221e-11    6.1e-08      0.002      0.999   -1.19e-07     1.2e-07\n",
       "A free copy of Mastering The Interview    -0.1986      0.083     -2.404      0.016      -0.361      -0.037\n",
       "Total Page Views                           0.0516      0.034      1.535      0.125      -0.014       0.118\n",
       "Landing Page Submission                   -0.3111      0.083     -3.729      0.000      -0.475      -0.148\n",
       "Lead Add Form                              3.8030      0.218     17.413      0.000       3.375       4.231\n",
       "Lead Import                                0.4928      0.453      1.088      0.277      -0.395       1.380\n",
       "Unemployed                                 0.0687      0.193      0.356      0.722      -0.310       0.447\n",
       "Unknown Employment                        -1.1878      0.203     -5.862      0.000      -1.585      -0.791\n",
       "Working Professional                       2.5281      0.258      9.789      0.000       2.022       3.034\n",
       "==========================================================================================================\n",
       "\"\"\""
      ]
     },
     "execution_count": 583,
     "metadata": {},
     "output_type": "execute_result"
    }
   ],
   "source": [
    "# Logistic regression model\n",
    "logm1 = sm.GLM(y_train, X_train, family = sm.families.Binomial())\n",
    "logm1.fit().summary()"
   ]
  },
  {
   "cell_type": "code",
   "execution_count": 584,
   "metadata": {
    "id": "zDy1o_QLZ85A"
   },
   "outputs": [],
   "source": [
    "X_train.drop(\"Update me on Supply Chain Content\", inplace=True, axis=1)"
   ]
  },
  {
   "cell_type": "code",
   "execution_count": 585,
   "metadata": {
    "colab": {
     "base_uri": "https://localhost:8080/",
     "height": 567
    },
    "id": "QssbDKmTZ85A",
    "outputId": "bac97e92-f0ea-4002-c88f-e29cf7c21403"
   },
   "outputs": [
    {
     "data": {
      "text/html": [
       "<table class=\"simpletable\">\n",
       "<caption>Generalized Linear Model Regression Results</caption>\n",
       "<tr>\n",
       "  <th>Dep. Variable:</th>       <td>Converted</td>    <th>  No. Observations:  </th>  <td>  6339</td> \n",
       "</tr>\n",
       "<tr>\n",
       "  <th>Model:</th>                  <td>GLM</td>       <th>  Df Residuals:      </th>  <td>  6324</td> \n",
       "</tr>\n",
       "<tr>\n",
       "  <th>Model Family:</th>        <td>Binomial</td>     <th>  Df Model:          </th>  <td>    14</td> \n",
       "</tr>\n",
       "<tr>\n",
       "  <th>Link Function:</th>         <td>Logit</td>      <th>  Scale:             </th> <td>  1.0000</td>\n",
       "</tr>\n",
       "<tr>\n",
       "  <th>Method:</th>                <td>IRLS</td>       <th>  Log-Likelihood:    </th> <td> -2880.0</td>\n",
       "</tr>\n",
       "<tr>\n",
       "  <th>Date:</th>            <td>Sun, 15 Dec 2024</td> <th>  Deviance:          </th> <td>  5760.0</td>\n",
       "</tr>\n",
       "<tr>\n",
       "  <th>Time:</th>                <td>13:54:26</td>     <th>  Pearson chi2:      </th> <td>6.41e+03</td>\n",
       "</tr>\n",
       "<tr>\n",
       "  <th>No. Iterations:</th>         <td>19</td>        <th>  Pseudo R-squ. (CS):</th>  <td>0.3434</td> \n",
       "</tr>\n",
       "<tr>\n",
       "  <th>Covariance Type:</th>     <td>nonrobust</td>    <th>                     </th>     <td> </td>   \n",
       "</tr>\n",
       "</table>\n",
       "<table class=\"simpletable\">\n",
       "<tr>\n",
       "                     <td></td>                       <th>coef</th>     <th>std err</th>      <th>z</th>      <th>P>|z|</th>  <th>[0.025</th>    <th>0.975]</th>  \n",
       "</tr>\n",
       "<tr>\n",
       "  <th>const</th>                                  <td>   -0.3698</td> <td>    0.194</td> <td>   -1.910</td> <td> 0.056</td> <td>   -0.749</td> <td>    0.010</td>\n",
       "</tr>\n",
       "<tr>\n",
       "  <th>Do Not Email</th>                           <td>   -1.4220</td> <td>    0.163</td> <td>   -8.741</td> <td> 0.000</td> <td>   -1.741</td> <td>   -1.103</td>\n",
       "</tr>\n",
       "<tr>\n",
       "  <th>Do Not Call</th>                            <td>   18.5922</td> <td> 1.23e+04</td> <td>    0.002</td> <td> 0.999</td> <td>-2.41e+04</td> <td> 2.41e+04</td>\n",
       "</tr>\n",
       "<tr>\n",
       "  <th>Total Time Spent on Website</th>            <td>    0.9804</td> <td>    0.035</td> <td>   28.140</td> <td> 0.000</td> <td>    0.912</td> <td>    1.049</td>\n",
       "</tr>\n",
       "<tr>\n",
       "  <th>Search</th>                                 <td>   -0.3131</td> <td>    0.824</td> <td>   -0.380</td> <td> 0.704</td> <td>   -1.927</td> <td>    1.301</td>\n",
       "</tr>\n",
       "<tr>\n",
       "  <th>Digital Advertisement</th>                  <td>   -0.5044</td> <td>    1.555</td> <td>   -0.324</td> <td> 0.746</td> <td>   -3.552</td> <td>    2.543</td>\n",
       "</tr>\n",
       "<tr>\n",
       "  <th>Through Recommendations</th>                <td>    0.7218</td> <td>    1.938</td> <td>    0.372</td> <td> 0.710</td> <td>   -3.077</td> <td>    4.520</td>\n",
       "</tr>\n",
       "<tr>\n",
       "  <th>A free copy of Mastering The Interview</th> <td>   -0.1986</td> <td>    0.083</td> <td>   -2.404</td> <td> 0.016</td> <td>   -0.361</td> <td>   -0.037</td>\n",
       "</tr>\n",
       "<tr>\n",
       "  <th>Total Page Views</th>                       <td>    0.0516</td> <td>    0.034</td> <td>    1.535</td> <td> 0.125</td> <td>   -0.014</td> <td>    0.118</td>\n",
       "</tr>\n",
       "<tr>\n",
       "  <th>Landing Page Submission</th>                <td>   -0.3111</td> <td>    0.083</td> <td>   -3.729</td> <td> 0.000</td> <td>   -0.475</td> <td>   -0.148</td>\n",
       "</tr>\n",
       "<tr>\n",
       "  <th>Lead Add Form</th>                          <td>    3.8030</td> <td>    0.218</td> <td>   17.413</td> <td> 0.000</td> <td>    3.375</td> <td>    4.231</td>\n",
       "</tr>\n",
       "<tr>\n",
       "  <th>Lead Import</th>                            <td>    0.4928</td> <td>    0.453</td> <td>    1.088</td> <td> 0.277</td> <td>   -0.395</td> <td>    1.380</td>\n",
       "</tr>\n",
       "<tr>\n",
       "  <th>Unemployed</th>                             <td>    0.0687</td> <td>    0.193</td> <td>    0.356</td> <td> 0.722</td> <td>   -0.310</td> <td>    0.447</td>\n",
       "</tr>\n",
       "<tr>\n",
       "  <th>Unknown Employment</th>                     <td>   -1.1878</td> <td>    0.203</td> <td>   -5.862</td> <td> 0.000</td> <td>   -1.585</td> <td>   -0.791</td>\n",
       "</tr>\n",
       "<tr>\n",
       "  <th>Working Professional</th>                   <td>    2.5281</td> <td>    0.258</td> <td>    9.789</td> <td> 0.000</td> <td>    2.022</td> <td>    3.034</td>\n",
       "</tr>\n",
       "</table>"
      ],
      "text/latex": [
       "\\begin{center}\n",
       "\\begin{tabular}{lclc}\n",
       "\\toprule\n",
       "\\textbf{Dep. Variable:}                         &    Converted     & \\textbf{  No. Observations:  } &     6339    \\\\\n",
       "\\textbf{Model:}                                 &       GLM        & \\textbf{  Df Residuals:      } &     6324    \\\\\n",
       "\\textbf{Model Family:}                          &     Binomial     & \\textbf{  Df Model:          } &       14    \\\\\n",
       "\\textbf{Link Function:}                         &      Logit       & \\textbf{  Scale:             } &    1.0000   \\\\\n",
       "\\textbf{Method:}                                &       IRLS       & \\textbf{  Log-Likelihood:    } &   -2880.0   \\\\\n",
       "\\textbf{Date:}                                  & Sun, 15 Dec 2024 & \\textbf{  Deviance:          } &    5760.0   \\\\\n",
       "\\textbf{Time:}                                  &     13:54:26     & \\textbf{  Pearson chi2:      } &  6.41e+03   \\\\\n",
       "\\textbf{No. Iterations:}                        &        19        & \\textbf{  Pseudo R-squ. (CS):} &   0.3434    \\\\\n",
       "\\textbf{Covariance Type:}                       &    nonrobust     & \\textbf{                     } &             \\\\\n",
       "\\bottomrule\n",
       "\\end{tabular}\n",
       "\\begin{tabular}{lcccccc}\n",
       "                                                & \\textbf{coef} & \\textbf{std err} & \\textbf{z} & \\textbf{P$> |$z$|$} & \\textbf{[0.025} & \\textbf{0.975]}  \\\\\n",
       "\\midrule\n",
       "\\textbf{const}                                  &      -0.3698  &        0.194     &    -1.910  &         0.056        &       -0.749    &        0.010     \\\\\n",
       "\\textbf{Do Not Email}                           &      -1.4220  &        0.163     &    -8.741  &         0.000        &       -1.741    &       -1.103     \\\\\n",
       "\\textbf{Do Not Call}                            &      18.5922  &     1.23e+04     &     0.002  &         0.999        &    -2.41e+04    &     2.41e+04     \\\\\n",
       "\\textbf{Total Time Spent on Website}            &       0.9804  &        0.035     &    28.140  &         0.000        &        0.912    &        1.049     \\\\\n",
       "\\textbf{Search}                                 &      -0.3131  &        0.824     &    -0.380  &         0.704        &       -1.927    &        1.301     \\\\\n",
       "\\textbf{Digital Advertisement}                  &      -0.5044  &        1.555     &    -0.324  &         0.746        &       -3.552    &        2.543     \\\\\n",
       "\\textbf{Through Recommendations}                &       0.7218  &        1.938     &     0.372  &         0.710        &       -3.077    &        4.520     \\\\\n",
       "\\textbf{A free copy of Mastering The Interview} &      -0.1986  &        0.083     &    -2.404  &         0.016        &       -0.361    &       -0.037     \\\\\n",
       "\\textbf{Total Page Views}                       &       0.0516  &        0.034     &     1.535  &         0.125        &       -0.014    &        0.118     \\\\\n",
       "\\textbf{Landing Page Submission}                &      -0.3111  &        0.083     &    -3.729  &         0.000        &       -0.475    &       -0.148     \\\\\n",
       "\\textbf{Lead Add Form}                          &       3.8030  &        0.218     &    17.413  &         0.000        &        3.375    &        4.231     \\\\\n",
       "\\textbf{Lead Import}                            &       0.4928  &        0.453     &     1.088  &         0.277        &       -0.395    &        1.380     \\\\\n",
       "\\textbf{Unemployed}                             &       0.0687  &        0.193     &     0.356  &         0.722        &       -0.310    &        0.447     \\\\\n",
       "\\textbf{Unknown Employment}                     &      -1.1878  &        0.203     &    -5.862  &         0.000        &       -1.585    &       -0.791     \\\\\n",
       "\\textbf{Working Professional}                   &       2.5281  &        0.258     &     9.789  &         0.000        &        2.022    &        3.034     \\\\\n",
       "\\bottomrule\n",
       "\\end{tabular}\n",
       "%\\caption{Generalized Linear Model Regression Results}\n",
       "\\end{center}"
      ],
      "text/plain": [
       "<class 'statsmodels.iolib.summary.Summary'>\n",
       "\"\"\"\n",
       "                 Generalized Linear Model Regression Results                  \n",
       "==============================================================================\n",
       "Dep. Variable:              Converted   No. Observations:                 6339\n",
       "Model:                            GLM   Df Residuals:                     6324\n",
       "Model Family:                Binomial   Df Model:                           14\n",
       "Link Function:                  Logit   Scale:                          1.0000\n",
       "Method:                          IRLS   Log-Likelihood:                -2880.0\n",
       "Date:                Sun, 15 Dec 2024   Deviance:                       5760.0\n",
       "Time:                        13:54:26   Pearson chi2:                 6.41e+03\n",
       "No. Iterations:                    19   Pseudo R-squ. (CS):             0.3434\n",
       "Covariance Type:            nonrobust                                         \n",
       "==========================================================================================================\n",
       "                                             coef    std err          z      P>|z|      [0.025      0.975]\n",
       "----------------------------------------------------------------------------------------------------------\n",
       "const                                     -0.3698      0.194     -1.910      0.056      -0.749       0.010\n",
       "Do Not Email                              -1.4220      0.163     -8.741      0.000      -1.741      -1.103\n",
       "Do Not Call                               18.5922   1.23e+04      0.002      0.999   -2.41e+04    2.41e+04\n",
       "Total Time Spent on Website                0.9804      0.035     28.140      0.000       0.912       1.049\n",
       "Search                                    -0.3131      0.824     -0.380      0.704      -1.927       1.301\n",
       "Digital Advertisement                     -0.5044      1.555     -0.324      0.746      -3.552       2.543\n",
       "Through Recommendations                    0.7218      1.938      0.372      0.710      -3.077       4.520\n",
       "A free copy of Mastering The Interview    -0.1986      0.083     -2.404      0.016      -0.361      -0.037\n",
       "Total Page Views                           0.0516      0.034      1.535      0.125      -0.014       0.118\n",
       "Landing Page Submission                   -0.3111      0.083     -3.729      0.000      -0.475      -0.148\n",
       "Lead Add Form                              3.8030      0.218     17.413      0.000       3.375       4.231\n",
       "Lead Import                                0.4928      0.453      1.088      0.277      -0.395       1.380\n",
       "Unemployed                                 0.0687      0.193      0.356      0.722      -0.310       0.447\n",
       "Unknown Employment                        -1.1878      0.203     -5.862      0.000      -1.585      -0.791\n",
       "Working Professional                       2.5281      0.258      9.789      0.000       2.022       3.034\n",
       "==========================================================================================================\n",
       "\"\"\""
      ]
     },
     "execution_count": 585,
     "metadata": {},
     "output_type": "execute_result"
    }
   ],
   "source": [
    "X_train = sm.add_constant(X_train)\n",
    "logm1 = sm.GLM(y_train, X_train, family = sm.families.Binomial())\n",
    "logm1.fit().summary()"
   ]
  },
  {
   "cell_type": "code",
   "execution_count": 586,
   "metadata": {
    "id": "0CO4ksgSZ85A"
   },
   "outputs": [],
   "source": [
    "X_train.drop(\"Do Not Call\", inplace=True, axis=1)"
   ]
  },
  {
   "cell_type": "code",
   "execution_count": 587,
   "metadata": {
    "colab": {
     "base_uri": "https://localhost:8080/",
     "height": 546
    },
    "id": "2qZf3wTkZ85A",
    "outputId": "969cc46c-c4c0-450d-c849-7bdf32f104a7"
   },
   "outputs": [
    {
     "data": {
      "text/html": [
       "<table class=\"simpletable\">\n",
       "<caption>Generalized Linear Model Regression Results</caption>\n",
       "<tr>\n",
       "  <th>Dep. Variable:</th>       <td>Converted</td>    <th>  No. Observations:  </th>  <td>  6339</td> \n",
       "</tr>\n",
       "<tr>\n",
       "  <th>Model:</th>                  <td>GLM</td>       <th>  Df Residuals:      </th>  <td>  6325</td> \n",
       "</tr>\n",
       "<tr>\n",
       "  <th>Model Family:</th>        <td>Binomial</td>     <th>  Df Model:          </th>  <td>    13</td> \n",
       "</tr>\n",
       "<tr>\n",
       "  <th>Link Function:</th>         <td>Logit</td>      <th>  Scale:             </th> <td>  1.0000</td>\n",
       "</tr>\n",
       "<tr>\n",
       "  <th>Method:</th>                <td>IRLS</td>       <th>  Log-Likelihood:    </th> <td> -2880.3</td>\n",
       "</tr>\n",
       "<tr>\n",
       "  <th>Date:</th>            <td>Sun, 15 Dec 2024</td> <th>  Deviance:          </th> <td>  5760.6</td>\n",
       "</tr>\n",
       "<tr>\n",
       "  <th>Time:</th>                <td>13:54:31</td>     <th>  Pearson chi2:      </th> <td>6.41e+03</td>\n",
       "</tr>\n",
       "<tr>\n",
       "  <th>No. Iterations:</th>          <td>6</td>        <th>  Pseudo R-squ. (CS):</th>  <td>0.3434</td> \n",
       "</tr>\n",
       "<tr>\n",
       "  <th>Covariance Type:</th>     <td>nonrobust</td>    <th>                     </th>     <td> </td>   \n",
       "</tr>\n",
       "</table>\n",
       "<table class=\"simpletable\">\n",
       "<tr>\n",
       "                     <td></td>                       <th>coef</th>     <th>std err</th>      <th>z</th>      <th>P>|z|</th>  <th>[0.025</th>    <th>0.975]</th>  \n",
       "</tr>\n",
       "<tr>\n",
       "  <th>const</th>                                  <td>   -0.3695</td> <td>    0.194</td> <td>   -1.908</td> <td> 0.056</td> <td>   -0.749</td> <td>    0.010</td>\n",
       "</tr>\n",
       "<tr>\n",
       "  <th>Do Not Email</th>                           <td>   -1.4226</td> <td>    0.163</td> <td>   -8.743</td> <td> 0.000</td> <td>   -1.741</td> <td>   -1.104</td>\n",
       "</tr>\n",
       "<tr>\n",
       "  <th>Total Time Spent on Website</th>            <td>    0.9808</td> <td>    0.035</td> <td>   28.156</td> <td> 0.000</td> <td>    0.913</td> <td>    1.049</td>\n",
       "</tr>\n",
       "<tr>\n",
       "  <th>Search</th>                                 <td>   -0.3137</td> <td>    0.824</td> <td>   -0.381</td> <td> 0.703</td> <td>   -1.928</td> <td>    1.301</td>\n",
       "</tr>\n",
       "<tr>\n",
       "  <th>Digital Advertisement</th>                  <td>   -0.5047</td> <td>    1.555</td> <td>   -0.325</td> <td> 0.746</td> <td>   -3.552</td> <td>    2.543</td>\n",
       "</tr>\n",
       "<tr>\n",
       "  <th>Through Recommendations</th>                <td>    0.7223</td> <td>    1.938</td> <td>    0.373</td> <td> 0.709</td> <td>   -3.077</td> <td>    4.521</td>\n",
       "</tr>\n",
       "<tr>\n",
       "  <th>A free copy of Mastering The Interview</th> <td>   -0.1987</td> <td>    0.083</td> <td>   -2.406</td> <td> 0.016</td> <td>   -0.361</td> <td>   -0.037</td>\n",
       "</tr>\n",
       "<tr>\n",
       "  <th>Total Page Views</th>                       <td>    0.0518</td> <td>    0.034</td> <td>    1.540</td> <td> 0.123</td> <td>   -0.014</td> <td>    0.118</td>\n",
       "</tr>\n",
       "<tr>\n",
       "  <th>Landing Page Submission</th>                <td>   -0.3119</td> <td>    0.083</td> <td>   -3.739</td> <td> 0.000</td> <td>   -0.475</td> <td>   -0.148</td>\n",
       "</tr>\n",
       "<tr>\n",
       "  <th>Lead Add Form</th>                          <td>    3.8059</td> <td>    0.218</td> <td>   17.429</td> <td> 0.000</td> <td>    3.378</td> <td>    4.234</td>\n",
       "</tr>\n",
       "<tr>\n",
       "  <th>Lead Import</th>                            <td>    0.4925</td> <td>    0.453</td> <td>    1.088</td> <td> 0.277</td> <td>   -0.395</td> <td>    1.380</td>\n",
       "</tr>\n",
       "<tr>\n",
       "  <th>Unemployed</th>                             <td>    0.0692</td> <td>    0.193</td> <td>    0.358</td> <td> 0.720</td> <td>   -0.309</td> <td>    0.448</td>\n",
       "</tr>\n",
       "<tr>\n",
       "  <th>Unknown Employment</th>                     <td>   -1.1877</td> <td>    0.203</td> <td>   -5.861</td> <td> 0.000</td> <td>   -1.585</td> <td>   -0.791</td>\n",
       "</tr>\n",
       "<tr>\n",
       "  <th>Working Professional</th>                   <td>    2.5283</td> <td>    0.258</td> <td>    9.789</td> <td> 0.000</td> <td>    2.022</td> <td>    3.035</td>\n",
       "</tr>\n",
       "</table>"
      ],
      "text/latex": [
       "\\begin{center}\n",
       "\\begin{tabular}{lclc}\n",
       "\\toprule\n",
       "\\textbf{Dep. Variable:}                         &    Converted     & \\textbf{  No. Observations:  } &     6339    \\\\\n",
       "\\textbf{Model:}                                 &       GLM        & \\textbf{  Df Residuals:      } &     6325    \\\\\n",
       "\\textbf{Model Family:}                          &     Binomial     & \\textbf{  Df Model:          } &       13    \\\\\n",
       "\\textbf{Link Function:}                         &      Logit       & \\textbf{  Scale:             } &    1.0000   \\\\\n",
       "\\textbf{Method:}                                &       IRLS       & \\textbf{  Log-Likelihood:    } &   -2880.3   \\\\\n",
       "\\textbf{Date:}                                  & Sun, 15 Dec 2024 & \\textbf{  Deviance:          } &    5760.6   \\\\\n",
       "\\textbf{Time:}                                  &     13:54:31     & \\textbf{  Pearson chi2:      } &  6.41e+03   \\\\\n",
       "\\textbf{No. Iterations:}                        &        6         & \\textbf{  Pseudo R-squ. (CS):} &   0.3434    \\\\\n",
       "\\textbf{Covariance Type:}                       &    nonrobust     & \\textbf{                     } &             \\\\\n",
       "\\bottomrule\n",
       "\\end{tabular}\n",
       "\\begin{tabular}{lcccccc}\n",
       "                                                & \\textbf{coef} & \\textbf{std err} & \\textbf{z} & \\textbf{P$> |$z$|$} & \\textbf{[0.025} & \\textbf{0.975]}  \\\\\n",
       "\\midrule\n",
       "\\textbf{const}                                  &      -0.3695  &        0.194     &    -1.908  &         0.056        &       -0.749    &        0.010     \\\\\n",
       "\\textbf{Do Not Email}                           &      -1.4226  &        0.163     &    -8.743  &         0.000        &       -1.741    &       -1.104     \\\\\n",
       "\\textbf{Total Time Spent on Website}            &       0.9808  &        0.035     &    28.156  &         0.000        &        0.913    &        1.049     \\\\\n",
       "\\textbf{Search}                                 &      -0.3137  &        0.824     &    -0.381  &         0.703        &       -1.928    &        1.301     \\\\\n",
       "\\textbf{Digital Advertisement}                  &      -0.5047  &        1.555     &    -0.325  &         0.746        &       -3.552    &        2.543     \\\\\n",
       "\\textbf{Through Recommendations}                &       0.7223  &        1.938     &     0.373  &         0.709        &       -3.077    &        4.521     \\\\\n",
       "\\textbf{A free copy of Mastering The Interview} &      -0.1987  &        0.083     &    -2.406  &         0.016        &       -0.361    &       -0.037     \\\\\n",
       "\\textbf{Total Page Views}                       &       0.0518  &        0.034     &     1.540  &         0.123        &       -0.014    &        0.118     \\\\\n",
       "\\textbf{Landing Page Submission}                &      -0.3119  &        0.083     &    -3.739  &         0.000        &       -0.475    &       -0.148     \\\\\n",
       "\\textbf{Lead Add Form}                          &       3.8059  &        0.218     &    17.429  &         0.000        &        3.378    &        4.234     \\\\\n",
       "\\textbf{Lead Import}                            &       0.4925  &        0.453     &     1.088  &         0.277        &       -0.395    &        1.380     \\\\\n",
       "\\textbf{Unemployed}                             &       0.0692  &        0.193     &     0.358  &         0.720        &       -0.309    &        0.448     \\\\\n",
       "\\textbf{Unknown Employment}                     &      -1.1877  &        0.203     &    -5.861  &         0.000        &       -1.585    &       -0.791     \\\\\n",
       "\\textbf{Working Professional}                   &       2.5283  &        0.258     &     9.789  &         0.000        &        2.022    &        3.035     \\\\\n",
       "\\bottomrule\n",
       "\\end{tabular}\n",
       "%\\caption{Generalized Linear Model Regression Results}\n",
       "\\end{center}"
      ],
      "text/plain": [
       "<class 'statsmodels.iolib.summary.Summary'>\n",
       "\"\"\"\n",
       "                 Generalized Linear Model Regression Results                  \n",
       "==============================================================================\n",
       "Dep. Variable:              Converted   No. Observations:                 6339\n",
       "Model:                            GLM   Df Residuals:                     6325\n",
       "Model Family:                Binomial   Df Model:                           13\n",
       "Link Function:                  Logit   Scale:                          1.0000\n",
       "Method:                          IRLS   Log-Likelihood:                -2880.3\n",
       "Date:                Sun, 15 Dec 2024   Deviance:                       5760.6\n",
       "Time:                        13:54:31   Pearson chi2:                 6.41e+03\n",
       "No. Iterations:                     6   Pseudo R-squ. (CS):             0.3434\n",
       "Covariance Type:            nonrobust                                         \n",
       "==========================================================================================================\n",
       "                                             coef    std err          z      P>|z|      [0.025      0.975]\n",
       "----------------------------------------------------------------------------------------------------------\n",
       "const                                     -0.3695      0.194     -1.908      0.056      -0.749       0.010\n",
       "Do Not Email                              -1.4226      0.163     -8.743      0.000      -1.741      -1.104\n",
       "Total Time Spent on Website                0.9808      0.035     28.156      0.000       0.913       1.049\n",
       "Search                                    -0.3137      0.824     -0.381      0.703      -1.928       1.301\n",
       "Digital Advertisement                     -0.5047      1.555     -0.325      0.746      -3.552       2.543\n",
       "Through Recommendations                    0.7223      1.938      0.373      0.709      -3.077       4.521\n",
       "A free copy of Mastering The Interview    -0.1987      0.083     -2.406      0.016      -0.361      -0.037\n",
       "Total Page Views                           0.0518      0.034      1.540      0.123      -0.014       0.118\n",
       "Landing Page Submission                   -0.3119      0.083     -3.739      0.000      -0.475      -0.148\n",
       "Lead Add Form                              3.8059      0.218     17.429      0.000       3.378       4.234\n",
       "Lead Import                                0.4925      0.453      1.088      0.277      -0.395       1.380\n",
       "Unemployed                                 0.0692      0.193      0.358      0.720      -0.309       0.448\n",
       "Unknown Employment                        -1.1877      0.203     -5.861      0.000      -1.585      -0.791\n",
       "Working Professional                       2.5283      0.258      9.789      0.000       2.022       3.035\n",
       "==========================================================================================================\n",
       "\"\"\""
      ]
     },
     "execution_count": 587,
     "metadata": {},
     "output_type": "execute_result"
    }
   ],
   "source": [
    "X_train = sm.add_constant(X_train)\n",
    "logm1 = sm.GLM(y_train, X_train, family = sm.families.Binomial())\n",
    "logm1.fit().summary()"
   ]
  },
  {
   "cell_type": "markdown",
   "metadata": {
    "id": "9w1BbKxPQoKp"
   },
   "source": [
    "### Step 7: Feature Selection Using RFE"
   ]
  },
  {
   "cell_type": "code",
   "execution_count": 588,
   "metadata": {
    "id": "SxHtYLfrQoKp"
   },
   "outputs": [],
   "source": [
    "from sklearn.linear_model import LogisticRegression\n",
    "logreg = LogisticRegression()"
   ]
  },
  {
   "cell_type": "code",
   "execution_count": 589,
   "metadata": {
    "id": "oGFsKWV2QoKq"
   },
   "outputs": [],
   "source": [
    "from sklearn.feature_selection import RFE\n",
    "rfe = RFE(logreg, n_features_to_select=7)             # running RFE with 7 variables as output\n",
    "rfe = rfe.fit(X_train, y_train)"
   ]
  },
  {
   "cell_type": "code",
   "execution_count": 590,
   "metadata": {
    "colab": {
     "base_uri": "https://localhost:8080/"
    },
    "id": "mzDx0Xp_QoKq",
    "outputId": "fbde4c32-fb44-4782-e2db-cd5da98fb7ac"
   },
   "outputs": [
    {
     "data": {
      "text/plain": [
       "array([False,  True,  True, False, False, False, False, False,  True,\n",
       "        True,  True, False,  True,  True])"
      ]
     },
     "execution_count": 590,
     "metadata": {},
     "output_type": "execute_result"
    }
   ],
   "source": [
    "rfe.support_"
   ]
  },
  {
   "cell_type": "code",
   "execution_count": 591,
   "metadata": {
    "colab": {
     "base_uri": "https://localhost:8080/"
    },
    "id": "_SA1KRo7QoKs",
    "outputId": "8471be7f-48a3-4b8f-8075-a2ab48e3a81f",
    "scrolled": false
   },
   "outputs": [
    {
     "data": {
      "text/plain": [
       "[('const', False, 7),\n",
       " ('Do Not Email', True, 1),\n",
       " ('Total Time Spent on Website', True, 1),\n",
       " ('Search', False, 4),\n",
       " ('Digital Advertisement', False, 5),\n",
       " ('Through Recommendations', False, 3),\n",
       " ('A free copy of Mastering The Interview', False, 2),\n",
       " ('Total Page Views', False, 6),\n",
       " ('Landing Page Submission', True, 1),\n",
       " ('Lead Add Form', True, 1),\n",
       " ('Lead Import', True, 1),\n",
       " ('Unemployed', False, 8),\n",
       " ('Unknown Employment', True, 1),\n",
       " ('Working Professional', True, 1)]"
      ]
     },
     "execution_count": 591,
     "metadata": {},
     "output_type": "execute_result"
    }
   ],
   "source": [
    "list(zip(X_train.columns, rfe.support_, rfe.ranking_))"
   ]
  },
  {
   "cell_type": "code",
   "execution_count": 592,
   "metadata": {
    "colab": {
     "base_uri": "https://localhost:8080/"
    },
    "id": "Z3kpKc5gQoKt",
    "outputId": "62d4df8a-ece0-4734-ed7b-bd4078f894ae"
   },
   "outputs": [
    {
     "data": {
      "text/plain": [
       "Index(['Do Not Email', 'Total Time Spent on Website',\n",
       "       'Landing Page Submission', 'Lead Add Form', 'Lead Import',\n",
       "       'Unknown Employment', 'Working Professional'],\n",
       "      dtype='object')"
      ]
     },
     "execution_count": 592,
     "metadata": {},
     "output_type": "execute_result"
    }
   ],
   "source": [
    "col = X_train.columns[rfe.support_]\n",
    "col"
   ]
  },
  {
   "cell_type": "markdown",
   "metadata": {
    "id": "wQoZ4d2IQoK6"
   },
   "source": [
    "#### Checking VIFs"
   ]
  },
  {
   "cell_type": "code",
   "execution_count": 593,
   "metadata": {
    "id": "CEnHP0CbQoK6"
   },
   "outputs": [],
   "source": [
    "# Check for the VIF values of the feature variables.\n",
    "from statsmodels.stats.outliers_influence import variance_inflation_factor"
   ]
  },
  {
   "cell_type": "code",
   "execution_count": 594,
   "metadata": {
    "colab": {
     "base_uri": "https://localhost:8080/",
     "height": 268
    },
    "id": "ofpHkVh7QoK7",
    "outputId": "f9d27282-3cc2-4202-fcf2-89a538c857ba"
   },
   "outputs": [
    {
     "data": {
      "text/html": [
       "<div>\n",
       "<style scoped>\n",
       "    .dataframe tbody tr th:only-of-type {\n",
       "        vertical-align: middle;\n",
       "    }\n",
       "\n",
       "    .dataframe tbody tr th {\n",
       "        vertical-align: top;\n",
       "    }\n",
       "\n",
       "    .dataframe thead th {\n",
       "        text-align: right;\n",
       "    }\n",
       "</style>\n",
       "<table border=\"1\" class=\"dataframe\">\n",
       "  <thead>\n",
       "    <tr style=\"text-align: right;\">\n",
       "      <th></th>\n",
       "      <th>Features</th>\n",
       "      <th>VIF</th>\n",
       "    </tr>\n",
       "  </thead>\n",
       "  <tbody>\n",
       "    <tr>\n",
       "      <th>2</th>\n",
       "      <td>Landing Page Submission</td>\n",
       "      <td>1.33</td>\n",
       "    </tr>\n",
       "    <tr>\n",
       "      <th>5</th>\n",
       "      <td>Unknown Employment</td>\n",
       "      <td>1.20</td>\n",
       "    </tr>\n",
       "    <tr>\n",
       "      <th>1</th>\n",
       "      <td>Total Time Spent on Website</td>\n",
       "      <td>1.15</td>\n",
       "    </tr>\n",
       "    <tr>\n",
       "      <th>6</th>\n",
       "      <td>Working Professional</td>\n",
       "      <td>1.12</td>\n",
       "    </tr>\n",
       "    <tr>\n",
       "      <th>3</th>\n",
       "      <td>Lead Add Form</td>\n",
       "      <td>1.11</td>\n",
       "    </tr>\n",
       "    <tr>\n",
       "      <th>0</th>\n",
       "      <td>Do Not Email</td>\n",
       "      <td>1.09</td>\n",
       "    </tr>\n",
       "    <tr>\n",
       "      <th>4</th>\n",
       "      <td>Lead Import</td>\n",
       "      <td>1.00</td>\n",
       "    </tr>\n",
       "  </tbody>\n",
       "</table>\n",
       "</div>"
      ],
      "text/plain": [
       "                      Features   VIF\n",
       "2      Landing Page Submission  1.33\n",
       "5           Unknown Employment  1.20\n",
       "1  Total Time Spent on Website  1.15\n",
       "6         Working Professional  1.12\n",
       "3                Lead Add Form  1.11\n",
       "0                 Do Not Email  1.09\n",
       "4                  Lead Import  1.00"
      ]
     },
     "execution_count": 594,
     "metadata": {},
     "output_type": "execute_result"
    }
   ],
   "source": [
    "# Create a dataframe that will contain the names of all the feature variables and their respective VIFs\n",
    "vif = pd.DataFrame()\n",
    "vif['Features'] = X_train[col].columns\n",
    "vif['VIF'] = [variance_inflation_factor(X_train[col].values, i) for i in range(X_train[col].shape[1])]\n",
    "vif['VIF'] = round(vif['VIF'], 2)\n",
    "vif = vif.sort_values(by = \"VIF\", ascending = False)\n",
    "vif"
   ]
  },
  {
   "cell_type": "markdown",
   "metadata": {
    "id": "TuFwOENpZ85C"
   },
   "source": [
    "Not deleting any of the features as VIF values are very low"
   ]
  },
  {
   "cell_type": "markdown",
   "metadata": {
    "id": "MXjdLFdjQoKv"
   },
   "source": [
    "##### Assessing the model with StatsModels with remaining columns"
   ]
  },
  {
   "cell_type": "code",
   "execution_count": 595,
   "metadata": {
    "colab": {
     "base_uri": "https://localhost:8080/",
     "height": 398
    },
    "id": "l846O4GaQoKv",
    "outputId": "8c24eb97-d237-47b8-fa79-f3494936d3f7"
   },
   "outputs": [
    {
     "data": {
      "text/html": [
       "<table class=\"simpletable\">\n",
       "<caption>Generalized Linear Model Regression Results</caption>\n",
       "<tr>\n",
       "  <th>Dep. Variable:</th>       <td>Converted</td>    <th>  No. Observations:  </th>  <td>  6339</td> \n",
       "</tr>\n",
       "<tr>\n",
       "  <th>Model:</th>                  <td>GLM</td>       <th>  Df Residuals:      </th>  <td>  6331</td> \n",
       "</tr>\n",
       "<tr>\n",
       "  <th>Model Family:</th>        <td>Binomial</td>     <th>  Df Model:          </th>  <td>     7</td> \n",
       "</tr>\n",
       "<tr>\n",
       "  <th>Link Function:</th>         <td>Logit</td>      <th>  Scale:             </th> <td>  1.0000</td>\n",
       "</tr>\n",
       "<tr>\n",
       "  <th>Method:</th>                <td>IRLS</td>       <th>  Log-Likelihood:    </th> <td> -2884.4</td>\n",
       "</tr>\n",
       "<tr>\n",
       "  <th>Date:</th>            <td>Sun, 15 Dec 2024</td> <th>  Deviance:          </th> <td>  5768.7</td>\n",
       "</tr>\n",
       "<tr>\n",
       "  <th>Time:</th>                <td>13:54:40</td>     <th>  Pearson chi2:      </th> <td>6.41e+03</td>\n",
       "</tr>\n",
       "<tr>\n",
       "  <th>No. Iterations:</th>          <td>6</td>        <th>  Pseudo R-squ. (CS):</th>  <td>0.3425</td> \n",
       "</tr>\n",
       "<tr>\n",
       "  <th>Covariance Type:</th>     <td>nonrobust</td>    <th>                     </th>     <td> </td>   \n",
       "</tr>\n",
       "</table>\n",
       "<table class=\"simpletable\">\n",
       "<tr>\n",
       "               <td></td>                  <th>coef</th>     <th>std err</th>      <th>z</th>      <th>P>|z|</th>  <th>[0.025</th>    <th>0.975]</th>  \n",
       "</tr>\n",
       "<tr>\n",
       "  <th>const</th>                       <td>   -0.3235</td> <td>    0.058</td> <td>   -5.603</td> <td> 0.000</td> <td>   -0.437</td> <td>   -0.210</td>\n",
       "</tr>\n",
       "<tr>\n",
       "  <th>Do Not Email</th>                <td>   -1.4280</td> <td>    0.162</td> <td>   -8.792</td> <td> 0.000</td> <td>   -1.746</td> <td>   -1.110</td>\n",
       "</tr>\n",
       "<tr>\n",
       "  <th>Total Time Spent on Website</th> <td>    0.9849</td> <td>    0.035</td> <td>   28.405</td> <td> 0.000</td> <td>    0.917</td> <td>    1.053</td>\n",
       "</tr>\n",
       "<tr>\n",
       "  <th>Landing Page Submission</th>     <td>   -0.3856</td> <td>    0.071</td> <td>   -5.442</td> <td> 0.000</td> <td>   -0.525</td> <td>   -0.247</td>\n",
       "</tr>\n",
       "<tr>\n",
       "  <th>Lead Add Form</th>               <td>    3.7910</td> <td>    0.218</td> <td>   17.393</td> <td> 0.000</td> <td>    3.364</td> <td>    4.218</td>\n",
       "</tr>\n",
       "<tr>\n",
       "  <th>Lead Import</th>                 <td>    0.4819</td> <td>    0.453</td> <td>    1.065</td> <td> 0.287</td> <td>   -0.405</td> <td>    1.369</td>\n",
       "</tr>\n",
       "<tr>\n",
       "  <th>Unknown Employment</th>          <td>   -1.2546</td> <td>    0.082</td> <td>  -15.293</td> <td> 0.000</td> <td>   -1.415</td> <td>   -1.094</td>\n",
       "</tr>\n",
       "<tr>\n",
       "  <th>Working Professional</th>        <td>    2.4723</td> <td>    0.179</td> <td>   13.779</td> <td> 0.000</td> <td>    2.121</td> <td>    2.824</td>\n",
       "</tr>\n",
       "</table>"
      ],
      "text/latex": [
       "\\begin{center}\n",
       "\\begin{tabular}{lclc}\n",
       "\\toprule\n",
       "\\textbf{Dep. Variable:}              &    Converted     & \\textbf{  No. Observations:  } &     6339    \\\\\n",
       "\\textbf{Model:}                      &       GLM        & \\textbf{  Df Residuals:      } &     6331    \\\\\n",
       "\\textbf{Model Family:}               &     Binomial     & \\textbf{  Df Model:          } &        7    \\\\\n",
       "\\textbf{Link Function:}              &      Logit       & \\textbf{  Scale:             } &    1.0000   \\\\\n",
       "\\textbf{Method:}                     &       IRLS       & \\textbf{  Log-Likelihood:    } &   -2884.4   \\\\\n",
       "\\textbf{Date:}                       & Sun, 15 Dec 2024 & \\textbf{  Deviance:          } &    5768.7   \\\\\n",
       "\\textbf{Time:}                       &     13:54:40     & \\textbf{  Pearson chi2:      } &  6.41e+03   \\\\\n",
       "\\textbf{No. Iterations:}             &        6         & \\textbf{  Pseudo R-squ. (CS):} &   0.3425    \\\\\n",
       "\\textbf{Covariance Type:}            &    nonrobust     & \\textbf{                     } &             \\\\\n",
       "\\bottomrule\n",
       "\\end{tabular}\n",
       "\\begin{tabular}{lcccccc}\n",
       "                                     & \\textbf{coef} & \\textbf{std err} & \\textbf{z} & \\textbf{P$> |$z$|$} & \\textbf{[0.025} & \\textbf{0.975]}  \\\\\n",
       "\\midrule\n",
       "\\textbf{const}                       &      -0.3235  &        0.058     &    -5.603  &         0.000        &       -0.437    &       -0.210     \\\\\n",
       "\\textbf{Do Not Email}                &      -1.4280  &        0.162     &    -8.792  &         0.000        &       -1.746    &       -1.110     \\\\\n",
       "\\textbf{Total Time Spent on Website} &       0.9849  &        0.035     &    28.405  &         0.000        &        0.917    &        1.053     \\\\\n",
       "\\textbf{Landing Page Submission}     &      -0.3856  &        0.071     &    -5.442  &         0.000        &       -0.525    &       -0.247     \\\\\n",
       "\\textbf{Lead Add Form}               &       3.7910  &        0.218     &    17.393  &         0.000        &        3.364    &        4.218     \\\\\n",
       "\\textbf{Lead Import}                 &       0.4819  &        0.453     &     1.065  &         0.287        &       -0.405    &        1.369     \\\\\n",
       "\\textbf{Unknown Employment}          &      -1.2546  &        0.082     &   -15.293  &         0.000        &       -1.415    &       -1.094     \\\\\n",
       "\\textbf{Working Professional}        &       2.4723  &        0.179     &    13.779  &         0.000        &        2.121    &        2.824     \\\\\n",
       "\\bottomrule\n",
       "\\end{tabular}\n",
       "%\\caption{Generalized Linear Model Regression Results}\n",
       "\\end{center}"
      ],
      "text/plain": [
       "<class 'statsmodels.iolib.summary.Summary'>\n",
       "\"\"\"\n",
       "                 Generalized Linear Model Regression Results                  \n",
       "==============================================================================\n",
       "Dep. Variable:              Converted   No. Observations:                 6339\n",
       "Model:                            GLM   Df Residuals:                     6331\n",
       "Model Family:                Binomial   Df Model:                            7\n",
       "Link Function:                  Logit   Scale:                          1.0000\n",
       "Method:                          IRLS   Log-Likelihood:                -2884.4\n",
       "Date:                Sun, 15 Dec 2024   Deviance:                       5768.7\n",
       "Time:                        13:54:40   Pearson chi2:                 6.41e+03\n",
       "No. Iterations:                     6   Pseudo R-squ. (CS):             0.3425\n",
       "Covariance Type:            nonrobust                                         \n",
       "===============================================================================================\n",
       "                                  coef    std err          z      P>|z|      [0.025      0.975]\n",
       "-----------------------------------------------------------------------------------------------\n",
       "const                          -0.3235      0.058     -5.603      0.000      -0.437      -0.210\n",
       "Do Not Email                   -1.4280      0.162     -8.792      0.000      -1.746      -1.110\n",
       "Total Time Spent on Website     0.9849      0.035     28.405      0.000       0.917       1.053\n",
       "Landing Page Submission        -0.3856      0.071     -5.442      0.000      -0.525      -0.247\n",
       "Lead Add Form                   3.7910      0.218     17.393      0.000       3.364       4.218\n",
       "Lead Import                     0.4819      0.453      1.065      0.287      -0.405       1.369\n",
       "Unknown Employment             -1.2546      0.082    -15.293      0.000      -1.415      -1.094\n",
       "Working Professional            2.4723      0.179     13.779      0.000       2.121       2.824\n",
       "===============================================================================================\n",
       "\"\"\""
      ]
     },
     "execution_count": 595,
     "metadata": {},
     "output_type": "execute_result"
    }
   ],
   "source": [
    "X_train_sm = sm.add_constant(X_train[col])\n",
    "logm2 = sm.GLM(y_train,X_train_sm, family = sm.families.Binomial())\n",
    "res = logm2.fit()\n",
    "res.summary()"
   ]
  },
  {
   "cell_type": "markdown",
   "metadata": {
    "id": "-U9wkUiNZ85C"
   },
   "source": [
    "Removing \"Lead Import\" feature as it has very high P value"
   ]
  },
  {
   "cell_type": "code",
   "execution_count": 596,
   "metadata": {
    "id": "W7FyFuBuZ85C"
   },
   "outputs": [],
   "source": [
    "col= col.drop(\"Lead Import\")"
   ]
  },
  {
   "cell_type": "code",
   "execution_count": 597,
   "metadata": {
    "colab": {
     "base_uri": "https://localhost:8080/",
     "height": 376
    },
    "id": "MPuxgnaUZ85C",
    "outputId": "abf385b3-4259-48ef-c2f3-dca154a42eac"
   },
   "outputs": [
    {
     "data": {
      "text/html": [
       "<table class=\"simpletable\">\n",
       "<caption>Generalized Linear Model Regression Results</caption>\n",
       "<tr>\n",
       "  <th>Dep. Variable:</th>       <td>Converted</td>    <th>  No. Observations:  </th>  <td>  6339</td> \n",
       "</tr>\n",
       "<tr>\n",
       "  <th>Model:</th>                  <td>GLM</td>       <th>  Df Residuals:      </th>  <td>  6332</td> \n",
       "</tr>\n",
       "<tr>\n",
       "  <th>Model Family:</th>        <td>Binomial</td>     <th>  Df Model:          </th>  <td>     6</td> \n",
       "</tr>\n",
       "<tr>\n",
       "  <th>Link Function:</th>         <td>Logit</td>      <th>  Scale:             </th> <td>  1.0000</td>\n",
       "</tr>\n",
       "<tr>\n",
       "  <th>Method:</th>                <td>IRLS</td>       <th>  Log-Likelihood:    </th> <td> -2884.9</td>\n",
       "</tr>\n",
       "<tr>\n",
       "  <th>Date:</th>            <td>Sun, 15 Dec 2024</td> <th>  Deviance:          </th> <td>  5769.8</td>\n",
       "</tr>\n",
       "<tr>\n",
       "  <th>Time:</th>                <td>13:54:40</td>     <th>  Pearson chi2:      </th> <td>6.41e+03</td>\n",
       "</tr>\n",
       "<tr>\n",
       "  <th>No. Iterations:</th>          <td>6</td>        <th>  Pseudo R-squ. (CS):</th>  <td>0.3424</td> \n",
       "</tr>\n",
       "<tr>\n",
       "  <th>Covariance Type:</th>     <td>nonrobust</td>    <th>                     </th>     <td> </td>   \n",
       "</tr>\n",
       "</table>\n",
       "<table class=\"simpletable\">\n",
       "<tr>\n",
       "               <td></td>                  <th>coef</th>     <th>std err</th>      <th>z</th>      <th>P>|z|</th>  <th>[0.025</th>    <th>0.975]</th>  \n",
       "</tr>\n",
       "<tr>\n",
       "  <th>const</th>                       <td>   -0.3170</td> <td>    0.057</td> <td>   -5.524</td> <td> 0.000</td> <td>   -0.429</td> <td>   -0.204</td>\n",
       "</tr>\n",
       "<tr>\n",
       "  <th>Do Not Email</th>                <td>   -1.4293</td> <td>    0.162</td> <td>   -8.803</td> <td> 0.000</td> <td>   -1.748</td> <td>   -1.111</td>\n",
       "</tr>\n",
       "<tr>\n",
       "  <th>Total Time Spent on Website</th> <td>    0.9829</td> <td>    0.035</td> <td>   28.398</td> <td> 0.000</td> <td>    0.915</td> <td>    1.051</td>\n",
       "</tr>\n",
       "<tr>\n",
       "  <th>Landing Page Submission</th>     <td>   -0.3908</td> <td>    0.071</td> <td>   -5.530</td> <td> 0.000</td> <td>   -0.529</td> <td>   -0.252</td>\n",
       "</tr>\n",
       "<tr>\n",
       "  <th>Lead Add Form</th>               <td>    3.7831</td> <td>    0.218</td> <td>   17.367</td> <td> 0.000</td> <td>    3.356</td> <td>    4.210</td>\n",
       "</tr>\n",
       "<tr>\n",
       "  <th>Unknown Employment</th>          <td>   -1.2578</td> <td>    0.082</td> <td>  -15.346</td> <td> 0.000</td> <td>   -1.418</td> <td>   -1.097</td>\n",
       "</tr>\n",
       "<tr>\n",
       "  <th>Working Professional</th>        <td>    2.4713</td> <td>    0.179</td> <td>   13.776</td> <td> 0.000</td> <td>    2.120</td> <td>    2.823</td>\n",
       "</tr>\n",
       "</table>"
      ],
      "text/latex": [
       "\\begin{center}\n",
       "\\begin{tabular}{lclc}\n",
       "\\toprule\n",
       "\\textbf{Dep. Variable:}              &    Converted     & \\textbf{  No. Observations:  } &     6339    \\\\\n",
       "\\textbf{Model:}                      &       GLM        & \\textbf{  Df Residuals:      } &     6332    \\\\\n",
       "\\textbf{Model Family:}               &     Binomial     & \\textbf{  Df Model:          } &        6    \\\\\n",
       "\\textbf{Link Function:}              &      Logit       & \\textbf{  Scale:             } &    1.0000   \\\\\n",
       "\\textbf{Method:}                     &       IRLS       & \\textbf{  Log-Likelihood:    } &   -2884.9   \\\\\n",
       "\\textbf{Date:}                       & Sun, 15 Dec 2024 & \\textbf{  Deviance:          } &    5769.8   \\\\\n",
       "\\textbf{Time:}                       &     13:54:40     & \\textbf{  Pearson chi2:      } &  6.41e+03   \\\\\n",
       "\\textbf{No. Iterations:}             &        6         & \\textbf{  Pseudo R-squ. (CS):} &   0.3424    \\\\\n",
       "\\textbf{Covariance Type:}            &    nonrobust     & \\textbf{                     } &             \\\\\n",
       "\\bottomrule\n",
       "\\end{tabular}\n",
       "\\begin{tabular}{lcccccc}\n",
       "                                     & \\textbf{coef} & \\textbf{std err} & \\textbf{z} & \\textbf{P$> |$z$|$} & \\textbf{[0.025} & \\textbf{0.975]}  \\\\\n",
       "\\midrule\n",
       "\\textbf{const}                       &      -0.3170  &        0.057     &    -5.524  &         0.000        &       -0.429    &       -0.204     \\\\\n",
       "\\textbf{Do Not Email}                &      -1.4293  &        0.162     &    -8.803  &         0.000        &       -1.748    &       -1.111     \\\\\n",
       "\\textbf{Total Time Spent on Website} &       0.9829  &        0.035     &    28.398  &         0.000        &        0.915    &        1.051     \\\\\n",
       "\\textbf{Landing Page Submission}     &      -0.3908  &        0.071     &    -5.530  &         0.000        &       -0.529    &       -0.252     \\\\\n",
       "\\textbf{Lead Add Form}               &       3.7831  &        0.218     &    17.367  &         0.000        &        3.356    &        4.210     \\\\\n",
       "\\textbf{Unknown Employment}          &      -1.2578  &        0.082     &   -15.346  &         0.000        &       -1.418    &       -1.097     \\\\\n",
       "\\textbf{Working Professional}        &       2.4713  &        0.179     &    13.776  &         0.000        &        2.120    &        2.823     \\\\\n",
       "\\bottomrule\n",
       "\\end{tabular}\n",
       "%\\caption{Generalized Linear Model Regression Results}\n",
       "\\end{center}"
      ],
      "text/plain": [
       "<class 'statsmodels.iolib.summary.Summary'>\n",
       "\"\"\"\n",
       "                 Generalized Linear Model Regression Results                  \n",
       "==============================================================================\n",
       "Dep. Variable:              Converted   No. Observations:                 6339\n",
       "Model:                            GLM   Df Residuals:                     6332\n",
       "Model Family:                Binomial   Df Model:                            6\n",
       "Link Function:                  Logit   Scale:                          1.0000\n",
       "Method:                          IRLS   Log-Likelihood:                -2884.9\n",
       "Date:                Sun, 15 Dec 2024   Deviance:                       5769.8\n",
       "Time:                        13:54:40   Pearson chi2:                 6.41e+03\n",
       "No. Iterations:                     6   Pseudo R-squ. (CS):             0.3424\n",
       "Covariance Type:            nonrobust                                         \n",
       "===============================================================================================\n",
       "                                  coef    std err          z      P>|z|      [0.025      0.975]\n",
       "-----------------------------------------------------------------------------------------------\n",
       "const                          -0.3170      0.057     -5.524      0.000      -0.429      -0.204\n",
       "Do Not Email                   -1.4293      0.162     -8.803      0.000      -1.748      -1.111\n",
       "Total Time Spent on Website     0.9829      0.035     28.398      0.000       0.915       1.051\n",
       "Landing Page Submission        -0.3908      0.071     -5.530      0.000      -0.529      -0.252\n",
       "Lead Add Form                   3.7831      0.218     17.367      0.000       3.356       4.210\n",
       "Unknown Employment             -1.2578      0.082    -15.346      0.000      -1.418      -1.097\n",
       "Working Professional            2.4713      0.179     13.776      0.000       2.120       2.823\n",
       "===============================================================================================\n",
       "\"\"\""
      ]
     },
     "execution_count": 597,
     "metadata": {},
     "output_type": "execute_result"
    }
   ],
   "source": [
    "X_train_sm = sm.add_constant(X_train[col])\n",
    "logm2 = sm.GLM(y_train,X_train_sm, family = sm.families.Binomial())\n",
    "res = logm2.fit()\n",
    "res.summary()"
   ]
  },
  {
   "cell_type": "markdown",
   "metadata": {
    "id": "M8sZ7Gj7QoK0"
   },
   "source": [
    "##### Creating a dataframe with the actual conversion flag and the predicted probabilities as Lead Score as per requirement"
   ]
  },
  {
   "cell_type": "code",
   "execution_count": 598,
   "metadata": {
    "id": "2DkogVI8Be_1"
   },
   "outputs": [],
   "source": [
    "y_train_pred = res.predict(X_train_sm)"
   ]
  },
  {
   "cell_type": "code",
   "execution_count": 599,
   "metadata": {
    "colab": {
     "base_uri": "https://localhost:8080/",
     "height": 206
    },
    "id": "YUGcgo_pQoK1",
    "outputId": "b45f6dd2-4c92-4606-8ab8-da47408ac3de"
   },
   "outputs": [
    {
     "data": {
      "text/html": [
       "<div>\n",
       "<style scoped>\n",
       "    .dataframe tbody tr th:only-of-type {\n",
       "        vertical-align: middle;\n",
       "    }\n",
       "\n",
       "    .dataframe tbody tr th {\n",
       "        vertical-align: top;\n",
       "    }\n",
       "\n",
       "    .dataframe thead th {\n",
       "        text-align: right;\n",
       "    }\n",
       "</style>\n",
       "<table border=\"1\" class=\"dataframe\">\n",
       "  <thead>\n",
       "    <tr style=\"text-align: right;\">\n",
       "      <th></th>\n",
       "      <th>ConversionFlag</th>\n",
       "      <th>Lead Score</th>\n",
       "    </tr>\n",
       "  </thead>\n",
       "  <tbody>\n",
       "    <tr>\n",
       "      <th>2257</th>\n",
       "      <td>0</td>\n",
       "      <td>28.0</td>\n",
       "    </tr>\n",
       "    <tr>\n",
       "      <th>3630</th>\n",
       "      <td>0</td>\n",
       "      <td>23.0</td>\n",
       "    </tr>\n",
       "    <tr>\n",
       "      <th>2205</th>\n",
       "      <td>0</td>\n",
       "      <td>28.0</td>\n",
       "    </tr>\n",
       "    <tr>\n",
       "      <th>7809</th>\n",
       "      <td>0</td>\n",
       "      <td>24.0</td>\n",
       "    </tr>\n",
       "    <tr>\n",
       "      <th>1619</th>\n",
       "      <td>1</td>\n",
       "      <td>84.0</td>\n",
       "    </tr>\n",
       "  </tbody>\n",
       "</table>\n",
       "</div>"
      ],
      "text/plain": [
       "      ConversionFlag  Lead Score\n",
       "2257               0        28.0\n",
       "3630               0        23.0\n",
       "2205               0        28.0\n",
       "7809               0        24.0\n",
       "1619               1        84.0"
      ]
     },
     "execution_count": 599,
     "metadata": {},
     "output_type": "execute_result"
    }
   ],
   "source": [
    "y_train_pred_final = pd.DataFrame({'ConversionFlag':y_train.values, 'Lead Score':round(y_train_pred*100)})\n",
    "y_train_pred_final.head()"
   ]
  },
  {
   "cell_type": "markdown",
   "metadata": {
    "id": "md4HqM0nQoK2"
   },
   "source": [
    "##### Creating new column 'predicted' with 1 if Lead Score > 50 else 0"
   ]
  },
  {
   "cell_type": "code",
   "execution_count": 600,
   "metadata": {
    "colab": {
     "base_uri": "https://localhost:8080/",
     "height": 206
    },
    "id": "Eb4xLHb5QoK2",
    "outputId": "18b4a2ff-b205-496f-c788-18f4e2486a61"
   },
   "outputs": [
    {
     "data": {
      "text/html": [
       "<div>\n",
       "<style scoped>\n",
       "    .dataframe tbody tr th:only-of-type {\n",
       "        vertical-align: middle;\n",
       "    }\n",
       "\n",
       "    .dataframe tbody tr th {\n",
       "        vertical-align: top;\n",
       "    }\n",
       "\n",
       "    .dataframe thead th {\n",
       "        text-align: right;\n",
       "    }\n",
       "</style>\n",
       "<table border=\"1\" class=\"dataframe\">\n",
       "  <thead>\n",
       "    <tr style=\"text-align: right;\">\n",
       "      <th></th>\n",
       "      <th>ConversionFlag</th>\n",
       "      <th>Lead Score</th>\n",
       "      <th>predicted</th>\n",
       "    </tr>\n",
       "  </thead>\n",
       "  <tbody>\n",
       "    <tr>\n",
       "      <th>2257</th>\n",
       "      <td>0</td>\n",
       "      <td>28.0</td>\n",
       "      <td>0</td>\n",
       "    </tr>\n",
       "    <tr>\n",
       "      <th>3630</th>\n",
       "      <td>0</td>\n",
       "      <td>23.0</td>\n",
       "      <td>0</td>\n",
       "    </tr>\n",
       "    <tr>\n",
       "      <th>2205</th>\n",
       "      <td>0</td>\n",
       "      <td>28.0</td>\n",
       "      <td>0</td>\n",
       "    </tr>\n",
       "    <tr>\n",
       "      <th>7809</th>\n",
       "      <td>0</td>\n",
       "      <td>24.0</td>\n",
       "      <td>0</td>\n",
       "    </tr>\n",
       "    <tr>\n",
       "      <th>1619</th>\n",
       "      <td>1</td>\n",
       "      <td>84.0</td>\n",
       "      <td>1</td>\n",
       "    </tr>\n",
       "  </tbody>\n",
       "</table>\n",
       "</div>"
      ],
      "text/plain": [
       "      ConversionFlag  Lead Score  predicted\n",
       "2257               0        28.0          0\n",
       "3630               0        23.0          0\n",
       "2205               0        28.0          0\n",
       "7809               0        24.0          0\n",
       "1619               1        84.0          1"
      ]
     },
     "execution_count": 600,
     "metadata": {},
     "output_type": "execute_result"
    }
   ],
   "source": [
    "y_train_pred_final['predicted'] = y_train_pred_final['Lead Score'].map(lambda x: 1 if x > 50 else 0)\n",
    "\n",
    "# Let's see the head\n",
    "y_train_pred_final.head()"
   ]
  },
  {
   "cell_type": "code",
   "execution_count": 601,
   "metadata": {
    "id": "rtDXFs6DQoK2"
   },
   "outputs": [],
   "source": [
    "from sklearn import metrics"
   ]
  },
  {
   "cell_type": "code",
   "execution_count": 602,
   "metadata": {
    "colab": {
     "base_uri": "https://localhost:8080/"
    },
    "id": "hdQDu-J7QoK3",
    "outputId": "be27e6fb-88fb-4c8b-8420-f6fc17212476"
   },
   "outputs": [
    {
     "name": "stdout",
     "output_type": "stream",
     "text": [
      "[[3504  418]\n",
      " [ 847 1570]]\n"
     ]
    }
   ],
   "source": [
    "# Confusion matrix\n",
    "confusion = metrics.confusion_matrix(y_train_pred_final.ConversionFlag, y_train_pred_final.predicted )\n",
    "print(confusion)"
   ]
  },
  {
   "cell_type": "code",
   "execution_count": 603,
   "metadata": {
    "colab": {
     "base_uri": "https://localhost:8080/"
    },
    "id": "hDEPSGE_QoK4",
    "outputId": "b371d61c-8a55-447f-c31d-e93839fd3757"
   },
   "outputs": [
    {
     "name": "stdout",
     "output_type": "stream",
     "text": [
      "0.8004417100489036\n"
     ]
    }
   ],
   "source": [
    "# Let's check the overall accuracy.\n",
    "print(metrics.accuracy_score(y_train_pred_final.ConversionFlag, y_train_pred_final.predicted))"
   ]
  },
  {
   "cell_type": "markdown",
   "metadata": {
    "id": "T1kWGETrQoLK"
   },
   "source": [
    "#### Precision and Recall- We are going with this approach over Sensitivity-Specificity as we need to find the lead conversion rate of 80% which is basically the required precision value"
   ]
  },
  {
   "cell_type": "markdown",
   "metadata": {
    "id": "aEwjBFFwQoLM"
   },
   "source": [
    "##### Precision\n",
    "TP / TP + FP"
   ]
  },
  {
   "cell_type": "code",
   "execution_count": 604,
   "metadata": {
    "colab": {
     "base_uri": "https://localhost:8080/"
    },
    "id": "DnkvarFaQoLM",
    "outputId": "beab4de3-5438-4593-99d1-5d5512ac7c54"
   },
   "outputs": [
    {
     "data": {
      "text/plain": [
       "0.789738430583501"
      ]
     },
     "execution_count": 604,
     "metadata": {},
     "output_type": "execute_result"
    }
   ],
   "source": [
    "confusion[1,1]/(confusion[0,1]+confusion[1,1])"
   ]
  },
  {
   "cell_type": "markdown",
   "metadata": {
    "id": "eGREXoZrQoLM"
   },
   "source": [
    "##### Recall\n",
    "TP / TP + FN"
   ]
  },
  {
   "cell_type": "code",
   "execution_count": 605,
   "metadata": {
    "colab": {
     "base_uri": "https://localhost:8080/"
    },
    "id": "oNclPPOFQoLM",
    "outputId": "77a5ac49-aa0c-45f2-c51c-6f55b37fd92a"
   },
   "outputs": [
    {
     "data": {
      "text/plain": [
       "0.6495655771617708"
      ]
     },
     "execution_count": 605,
     "metadata": {},
     "output_type": "execute_result"
    }
   ],
   "source": [
    "confusion[1,1]/(confusion[1,0]+confusion[1,1])"
   ]
  },
  {
   "cell_type": "markdown",
   "metadata": {
    "id": "vQS2aZtbQoLN"
   },
   "source": [
    "Using sklearn utilities for the same"
   ]
  },
  {
   "cell_type": "code",
   "execution_count": 606,
   "metadata": {
    "id": "j1Z1p39GQoLN"
   },
   "outputs": [],
   "source": [
    "from sklearn.metrics import precision_score, recall_score"
   ]
  },
  {
   "cell_type": "code",
   "execution_count": 607,
   "metadata": {
    "colab": {
     "base_uri": "https://localhost:8080/"
    },
    "id": "HG5JdUkPQoLO",
    "outputId": "4ef1c017-7124-469f-ba84-ae9b7ada6aae"
   },
   "outputs": [
    {
     "data": {
      "text/plain": [
       "0.789738430583501"
      ]
     },
     "execution_count": 607,
     "metadata": {},
     "output_type": "execute_result"
    }
   ],
   "source": [
    "precision_score(y_train_pred_final.ConversionFlag, y_train_pred_final.predicted)"
   ]
  },
  {
   "cell_type": "code",
   "execution_count": 608,
   "metadata": {
    "colab": {
     "base_uri": "https://localhost:8080/"
    },
    "id": "cBulMtSqQoLO",
    "outputId": "9d478538-415c-441e-d096-7624d18b2ae2"
   },
   "outputs": [
    {
     "data": {
      "text/plain": [
       "0.6495655771617708"
      ]
     },
     "execution_count": 608,
     "metadata": {},
     "output_type": "execute_result"
    }
   ],
   "source": [
    "recall_score(y_train_pred_final.ConversionFlag, y_train_pred_final.predicted)"
   ]
  },
  {
   "cell_type": "markdown",
   "metadata": {
    "id": "7WuyNtJqzG20"
   },
   "source": [
    "### Precision and recall tradeoff"
   ]
  },
  {
   "cell_type": "code",
   "execution_count": 609,
   "metadata": {},
   "outputs": [],
   "source": [
    "from sklearn.metrics import precision_recall_curve"
   ]
  },
  {
   "cell_type": "code",
   "execution_count": 610,
   "metadata": {
    "colab": {
     "base_uri": "https://localhost:8080/"
    },
    "id": "NCxt9PsIzG21",
    "outputId": "0005c83f-855b-4c32-b64a-712ca45908ad"
   },
   "outputs": [
    {
     "data": {
      "text/plain": [
       "(2257    0\n",
       " 3630    0\n",
       " 2205    0\n",
       " 7809    0\n",
       " 1619    1\n",
       "        ..\n",
       " 374     1\n",
       " 84      1\n",
       " 8213    1\n",
       " 7090    0\n",
       " 5759    0\n",
       " Name: ConversionFlag, Length: 6339, dtype: int64,\n",
       " 2257    0\n",
       " 3630    0\n",
       " 2205    0\n",
       " 7809    0\n",
       " 1619    1\n",
       "        ..\n",
       " 374     1\n",
       " 84      1\n",
       " 8213    1\n",
       " 7090    0\n",
       " 5759    0\n",
       " Name: predicted, Length: 6339, dtype: int64)"
      ]
     },
     "execution_count": 610,
     "metadata": {},
     "output_type": "execute_result"
    }
   ],
   "source": [
    "y_train_pred_final.ConversionFlag, y_train_pred_final.predicted"
   ]
  },
  {
   "cell_type": "code",
   "execution_count": 611,
   "metadata": {
    "id": "ymeBeTMSzG22"
   },
   "outputs": [],
   "source": [
    "p, r, thresholds = precision_recall_curve(y_train_pred_final.ConversionFlag, y_train_pred_final[\"Lead Score\"])"
   ]
  },
  {
   "cell_type": "code",
   "execution_count": 658,
   "metadata": {
    "colab": {
     "base_uri": "https://localhost:8080/",
     "height": 430
    },
    "id": "-zVRgt6nzG22",
    "outputId": "d7536dfd-0cbc-4b55-918c-19d788c16869",
    "scrolled": true
   },
   "outputs": [
    {
     "data": {
      "image/png": "[encoded data removed]",
      "text/plain": [
       "<Figure size 1000x350 with 1 Axes>"
      ]
     },
     "metadata": {},
     "output_type": "display_data"
    }
   ],
   "source": [
    "plt.figure(figsize = (10,3.5))\n",
    "plt.plot(thresholds, p[:-1], \"g-\")\n",
    "plt.plot(thresholds, r[:-1], \"r-\")\n",
    "plt.show()"
   ]
  },
  {
   "cell_type": "markdown",
   "metadata": {
    "id": "puci5wGCzG23"
   },
   "source": [
    "Though 40 is the ideal cut off value for maximizing precision and recall as per above curve, but we need to find cut off value for precision equal to 80 percent. As per the above graph, precision is approx. 80 percent for Lead Score cut off value of 60 and above."
   ]
  },
  {
   "cell_type": "code",
   "execution_count": 640,
   "metadata": {
    "colab": {
     "base_uri": "https://localhost:8080/",
     "height": 206
    },
    "id": "ZLkJIYBKzG23",
    "outputId": "dd621512-e2fe-4ccb-b2ae-490b86baf590",
    "scrolled": true
   },
   "outputs": [
    {
     "data": {
      "text/html": [
       "<div>\n",
       "<style scoped>\n",
       "    .dataframe tbody tr th:only-of-type {\n",
       "        vertical-align: middle;\n",
       "    }\n",
       "\n",
       "    .dataframe tbody tr th {\n",
       "        vertical-align: top;\n",
       "    }\n",
       "\n",
       "    .dataframe thead th {\n",
       "        text-align: right;\n",
       "    }\n",
       "</style>\n",
       "<table border=\"1\" class=\"dataframe\">\n",
       "  <thead>\n",
       "    <tr style=\"text-align: right;\">\n",
       "      <th></th>\n",
       "      <th>ConversionFlag</th>\n",
       "      <th>Lead Score</th>\n",
       "      <th>predicted</th>\n",
       "    </tr>\n",
       "  </thead>\n",
       "  <tbody>\n",
       "    <tr>\n",
       "      <th>2257</th>\n",
       "      <td>0</td>\n",
       "      <td>28.0</td>\n",
       "      <td>0</td>\n",
       "    </tr>\n",
       "    <tr>\n",
       "      <th>3630</th>\n",
       "      <td>0</td>\n",
       "      <td>23.0</td>\n",
       "      <td>0</td>\n",
       "    </tr>\n",
       "    <tr>\n",
       "      <th>2205</th>\n",
       "      <td>0</td>\n",
       "      <td>28.0</td>\n",
       "      <td>0</td>\n",
       "    </tr>\n",
       "    <tr>\n",
       "      <th>7809</th>\n",
       "      <td>0</td>\n",
       "      <td>24.0</td>\n",
       "      <td>0</td>\n",
       "    </tr>\n",
       "    <tr>\n",
       "      <th>1619</th>\n",
       "      <td>1</td>\n",
       "      <td>84.0</td>\n",
       "      <td>1</td>\n",
       "    </tr>\n",
       "  </tbody>\n",
       "</table>\n",
       "</div>"
      ],
      "text/plain": [
       "      ConversionFlag  Lead Score  predicted\n",
       "2257               0        28.0          0\n",
       "3630               0        23.0          0\n",
       "2205               0        28.0          0\n",
       "7809               0        24.0          0\n",
       "1619               1        84.0          1"
      ]
     },
     "execution_count": 640,
     "metadata": {},
     "output_type": "execute_result"
    }
   ],
   "source": [
    "y_train_pred_final['predicted'] = y_train_pred_final['Lead Score'].map(lambda x: 1 if x > 80 else 0)\n",
    "\n",
    "# Let's see the head\n",
    "y_train_pred_final.head()"
   ]
  },
  {
   "cell_type": "code",
   "execution_count": 641,
   "metadata": {
    "colab": {
     "base_uri": "https://localhost:8080/"
    },
    "id": "5LmNxy0VzG23",
    "outputId": "ebf0790a-384f-42fa-eb40-5c1e7fc6a95f"
   },
   "outputs": [
    {
     "data": {
      "text/plain": [
       "0.8812217194570136"
      ]
     },
     "execution_count": 641,
     "metadata": {},
     "output_type": "execute_result"
    }
   ],
   "source": [
    "precision_score(y_train_pred_final.ConversionFlag, y_train_pred_final.predicted)"
   ]
  },
  {
   "cell_type": "markdown",
   "metadata": {
    "id": "j3TBlY8q0Dmp"
   },
   "source": [
    "As we can see from above, the precision value for train data set is greater than 80% for cut off value of 60"
   ]
  },
  {
   "cell_type": "markdown",
   "metadata": {
    "id": "nf5AmcRPQoLU"
   },
   "source": [
    "### Step 8: Making predictions on the test set using the final model"
   ]
  },
  {
   "cell_type": "code",
   "execution_count": 615,
   "metadata": {
    "scrolled": true
   },
   "outputs": [
    {
     "data": {
      "text/html": [
       "<div>\n",
       "<style scoped>\n",
       "    .dataframe tbody tr th:only-of-type {\n",
       "        vertical-align: middle;\n",
       "    }\n",
       "\n",
       "    .dataframe tbody tr th {\n",
       "        vertical-align: top;\n",
       "    }\n",
       "\n",
       "    .dataframe thead th {\n",
       "        text-align: right;\n",
       "    }\n",
       "</style>\n",
       "<table border=\"1\" class=\"dataframe\">\n",
       "  <thead>\n",
       "    <tr style=\"text-align: right;\">\n",
       "      <th></th>\n",
       "      <th>Do Not Email</th>\n",
       "      <th>Do Not Call</th>\n",
       "      <th>Total Time Spent on Website</th>\n",
       "      <th>Search</th>\n",
       "      <th>Digital Advertisement</th>\n",
       "      <th>Through Recommendations</th>\n",
       "      <th>Update me on Supply Chain Content</th>\n",
       "      <th>A free copy of Mastering The Interview</th>\n",
       "      <th>Total Page Views</th>\n",
       "      <th>Landing Page Submission</th>\n",
       "      <th>Lead Add Form</th>\n",
       "      <th>Lead Import</th>\n",
       "      <th>Unemployed</th>\n",
       "      <th>Unknown Employment</th>\n",
       "      <th>Working Professional</th>\n",
       "    </tr>\n",
       "  </thead>\n",
       "  <tbody>\n",
       "    <tr>\n",
       "      <th>2469</th>\n",
       "      <td>0</td>\n",
       "      <td>0</td>\n",
       "      <td>-0.142508</td>\n",
       "      <td>0</td>\n",
       "      <td>0</td>\n",
       "      <td>0</td>\n",
       "      <td>0</td>\n",
       "      <td>0</td>\n",
       "      <td>0.350392</td>\n",
       "      <td>1</td>\n",
       "      <td>0</td>\n",
       "      <td>0</td>\n",
       "      <td>0</td>\n",
       "      <td>1</td>\n",
       "      <td>0</td>\n",
       "    </tr>\n",
       "    <tr>\n",
       "      <th>5519</th>\n",
       "      <td>0</td>\n",
       "      <td>0</td>\n",
       "      <td>-0.871834</td>\n",
       "      <td>0</td>\n",
       "      <td>0</td>\n",
       "      <td>0</td>\n",
       "      <td>0</td>\n",
       "      <td>0</td>\n",
       "      <td>-0.695126</td>\n",
       "      <td>0</td>\n",
       "      <td>0</td>\n",
       "      <td>0</td>\n",
       "      <td>0</td>\n",
       "      <td>1</td>\n",
       "      <td>0</td>\n",
       "    </tr>\n",
       "    <tr>\n",
       "      <th>6869</th>\n",
       "      <td>0</td>\n",
       "      <td>0</td>\n",
       "      <td>-0.871834</td>\n",
       "      <td>0</td>\n",
       "      <td>0</td>\n",
       "      <td>0</td>\n",
       "      <td>0</td>\n",
       "      <td>0</td>\n",
       "      <td>-0.695126</td>\n",
       "      <td>0</td>\n",
       "      <td>0</td>\n",
       "      <td>0</td>\n",
       "      <td>0</td>\n",
       "      <td>1</td>\n",
       "      <td>0</td>\n",
       "    </tr>\n",
       "    <tr>\n",
       "      <th>7824</th>\n",
       "      <td>0</td>\n",
       "      <td>0</td>\n",
       "      <td>-0.529271</td>\n",
       "      <td>0</td>\n",
       "      <td>0</td>\n",
       "      <td>0</td>\n",
       "      <td>0</td>\n",
       "      <td>0</td>\n",
       "      <td>-0.637042</td>\n",
       "      <td>1</td>\n",
       "      <td>0</td>\n",
       "      <td>0</td>\n",
       "      <td>1</td>\n",
       "      <td>0</td>\n",
       "      <td>0</td>\n",
       "    </tr>\n",
       "    <tr>\n",
       "      <th>4585</th>\n",
       "      <td>0</td>\n",
       "      <td>0</td>\n",
       "      <td>0.684430</td>\n",
       "      <td>0</td>\n",
       "      <td>0</td>\n",
       "      <td>0</td>\n",
       "      <td>0</td>\n",
       "      <td>1</td>\n",
       "      <td>0.030928</td>\n",
       "      <td>1</td>\n",
       "      <td>0</td>\n",
       "      <td>0</td>\n",
       "      <td>1</td>\n",
       "      <td>0</td>\n",
       "      <td>0</td>\n",
       "    </tr>\n",
       "  </tbody>\n",
       "</table>\n",
       "</div>"
      ],
      "text/plain": [
       "      Do Not Email  Do Not Call  Total Time Spent on Website  Search  \\\n",
       "2469             0            0                    -0.142508       0   \n",
       "5519             0            0                    -0.871834       0   \n",
       "6869             0            0                    -0.871834       0   \n",
       "7824             0            0                    -0.529271       0   \n",
       "4585             0            0                     0.684430       0   \n",
       "\n",
       "      Digital Advertisement  Through Recommendations  \\\n",
       "2469                      0                        0   \n",
       "5519                      0                        0   \n",
       "6869                      0                        0   \n",
       "7824                      0                        0   \n",
       "4585                      0                        0   \n",
       "\n",
       "      Update me on Supply Chain Content  \\\n",
       "2469                                  0   \n",
       "5519                                  0   \n",
       "6869                                  0   \n",
       "7824                                  0   \n",
       "4585                                  0   \n",
       "\n",
       "      A free copy of Mastering The Interview  Total Page Views  \\\n",
       "2469                                       0          0.350392   \n",
       "5519                                       0         -0.695126   \n",
       "6869                                       0         -0.695126   \n",
       "7824                                       0         -0.637042   \n",
       "4585                                       1          0.030928   \n",
       "\n",
       "      Landing Page Submission  Lead Add Form  Lead Import  Unemployed  \\\n",
       "2469                        1              0            0           0   \n",
       "5519                        0              0            0           0   \n",
       "6869                        0              0            0           0   \n",
       "7824                        1              0            0           1   \n",
       "4585                        1              0            0           1   \n",
       "\n",
       "      Unknown Employment  Working Professional  \n",
       "2469                   1                     0  \n",
       "5519                   1                     0  \n",
       "6869                   1                     0  \n",
       "7824                   0                     0  \n",
       "4585                   0                     0  "
      ]
     },
     "execution_count": 615,
     "metadata": {},
     "output_type": "execute_result"
    }
   ],
   "source": [
    "X_test.head()"
   ]
  },
  {
   "cell_type": "code",
   "execution_count": 616,
   "metadata": {
    "id": "234SVPnOrkyI"
   },
   "outputs": [
    {
     "data": {
      "text/html": [
       "<div>\n",
       "<style scoped>\n",
       "    .dataframe tbody tr th:only-of-type {\n",
       "        vertical-align: middle;\n",
       "    }\n",
       "\n",
       "    .dataframe tbody tr th {\n",
       "        vertical-align: top;\n",
       "    }\n",
       "\n",
       "    .dataframe thead th {\n",
       "        text-align: right;\n",
       "    }\n",
       "</style>\n",
       "<table border=\"1\" class=\"dataframe\">\n",
       "  <thead>\n",
       "    <tr style=\"text-align: right;\">\n",
       "      <th></th>\n",
       "      <th>Do Not Email</th>\n",
       "      <th>Total Time Spent on Website</th>\n",
       "      <th>Landing Page Submission</th>\n",
       "      <th>Lead Add Form</th>\n",
       "      <th>Unknown Employment</th>\n",
       "      <th>Working Professional</th>\n",
       "    </tr>\n",
       "  </thead>\n",
       "  <tbody>\n",
       "    <tr>\n",
       "      <th>2469</th>\n",
       "      <td>0</td>\n",
       "      <td>-0.142508</td>\n",
       "      <td>1</td>\n",
       "      <td>0</td>\n",
       "      <td>1</td>\n",
       "      <td>0</td>\n",
       "    </tr>\n",
       "    <tr>\n",
       "      <th>5519</th>\n",
       "      <td>0</td>\n",
       "      <td>-0.871834</td>\n",
       "      <td>0</td>\n",
       "      <td>0</td>\n",
       "      <td>1</td>\n",
       "      <td>0</td>\n",
       "    </tr>\n",
       "    <tr>\n",
       "      <th>6869</th>\n",
       "      <td>0</td>\n",
       "      <td>-0.871834</td>\n",
       "      <td>0</td>\n",
       "      <td>0</td>\n",
       "      <td>1</td>\n",
       "      <td>0</td>\n",
       "    </tr>\n",
       "    <tr>\n",
       "      <th>7824</th>\n",
       "      <td>0</td>\n",
       "      <td>-0.529271</td>\n",
       "      <td>1</td>\n",
       "      <td>0</td>\n",
       "      <td>0</td>\n",
       "      <td>0</td>\n",
       "    </tr>\n",
       "    <tr>\n",
       "      <th>4585</th>\n",
       "      <td>0</td>\n",
       "      <td>0.684430</td>\n",
       "      <td>1</td>\n",
       "      <td>0</td>\n",
       "      <td>0</td>\n",
       "      <td>0</td>\n",
       "    </tr>\n",
       "  </tbody>\n",
       "</table>\n",
       "</div>"
      ],
      "text/plain": [
       "      Do Not Email  Total Time Spent on Website  Landing Page Submission  \\\n",
       "2469             0                    -0.142508                        1   \n",
       "5519             0                    -0.871834                        0   \n",
       "6869             0                    -0.871834                        0   \n",
       "7824             0                    -0.529271                        1   \n",
       "4585             0                     0.684430                        1   \n",
       "\n",
       "      Lead Add Form  Unknown Employment  Working Professional  \n",
       "2469              0                   1                     0  \n",
       "5519              0                   1                     0  \n",
       "6869              0                   1                     0  \n",
       "7824              0                   0                     0  \n",
       "4585              0                   0                     0  "
      ]
     },
     "execution_count": 616,
     "metadata": {},
     "output_type": "execute_result"
    }
   ],
   "source": [
    "X_test = X_test[col]\n",
    "X_test.head()"
   ]
  },
  {
   "cell_type": "markdown",
   "metadata": {
    "id": "eUmXmyTNQoLW"
   },
   "source": [
    "##### Making predictions on the test set"
   ]
  },
  {
   "cell_type": "code",
   "execution_count": 617,
   "metadata": {},
   "outputs": [],
   "source": [
    "X_test_sm = sm.add_constant(X_test)"
   ]
  },
  {
   "cell_type": "code",
   "execution_count": 618,
   "metadata": {
    "id": "-VNCp0gbQoLW"
   },
   "outputs": [],
   "source": [
    "y_test_pred = res.predict(X_test_sm)"
   ]
  },
  {
   "cell_type": "code",
   "execution_count": 619,
   "metadata": {
    "id": "go9aDgl_QoLY"
   },
   "outputs": [],
   "source": [
    "# Converting y_test_pred to Dataframe as it is an array\n",
    "y_test_pred_df = pd.DataFrame(y_test_pred)"
   ]
  },
  {
   "cell_type": "code",
   "execution_count": 620,
   "metadata": {
    "colab": {
     "base_uri": "https://localhost:8080/",
     "height": 206
    },
    "id": "UjY3JtnqQoLY",
    "outputId": "4e86d5c6-2df2-4e92-d99f-d4d456b68d0c"
   },
   "outputs": [
    {
     "data": {
      "text/html": [
       "<div>\n",
       "<style scoped>\n",
       "    .dataframe tbody tr th:only-of-type {\n",
       "        vertical-align: middle;\n",
       "    }\n",
       "\n",
       "    .dataframe tbody tr th {\n",
       "        vertical-align: top;\n",
       "    }\n",
       "\n",
       "    .dataframe thead th {\n",
       "        text-align: right;\n",
       "    }\n",
       "</style>\n",
       "<table border=\"1\" class=\"dataframe\">\n",
       "  <thead>\n",
       "    <tr style=\"text-align: right;\">\n",
       "      <th></th>\n",
       "      <th>0</th>\n",
       "    </tr>\n",
       "  </thead>\n",
       "  <tbody>\n",
       "    <tr>\n",
       "      <th>2469</th>\n",
       "      <td>0.108549</td>\n",
       "    </tr>\n",
       "    <tr>\n",
       "      <th>5519</th>\n",
       "      <td>0.080782</td>\n",
       "    </tr>\n",
       "    <tr>\n",
       "      <th>6869</th>\n",
       "      <td>0.080782</td>\n",
       "    </tr>\n",
       "    <tr>\n",
       "      <th>7824</th>\n",
       "      <td>0.226537</td>\n",
       "    </tr>\n",
       "    <tr>\n",
       "      <th>4585</th>\n",
       "      <td>0.491260</td>\n",
       "    </tr>\n",
       "  </tbody>\n",
       "</table>\n",
       "</div>"
      ],
      "text/plain": [
       "             0\n",
       "2469  0.108549\n",
       "5519  0.080782\n",
       "6869  0.080782\n",
       "7824  0.226537\n",
       "4585  0.491260"
      ]
     },
     "execution_count": 620,
     "metadata": {},
     "output_type": "execute_result"
    }
   ],
   "source": [
    "y_test_pred_df.head()"
   ]
  },
  {
   "cell_type": "code",
   "execution_count": 621,
   "metadata": {
    "id": "ipJsIfSKQoLY"
   },
   "outputs": [
    {
     "data": {
      "text/html": [
       "<div>\n",
       "<style scoped>\n",
       "    .dataframe tbody tr th:only-of-type {\n",
       "        vertical-align: middle;\n",
       "    }\n",
       "\n",
       "    .dataframe tbody tr th {\n",
       "        vertical-align: top;\n",
       "    }\n",
       "\n",
       "    .dataframe thead th {\n",
       "        text-align: right;\n",
       "    }\n",
       "</style>\n",
       "<table border=\"1\" class=\"dataframe\">\n",
       "  <thead>\n",
       "    <tr style=\"text-align: right;\">\n",
       "      <th></th>\n",
       "      <th>0</th>\n",
       "    </tr>\n",
       "  </thead>\n",
       "  <tbody>\n",
       "    <tr>\n",
       "      <th>0</th>\n",
       "      <td>0</td>\n",
       "    </tr>\n",
       "    <tr>\n",
       "      <th>1</th>\n",
       "      <td>1</td>\n",
       "    </tr>\n",
       "    <tr>\n",
       "      <th>2</th>\n",
       "      <td>0</td>\n",
       "    </tr>\n",
       "    <tr>\n",
       "      <th>3</th>\n",
       "      <td>0</td>\n",
       "    </tr>\n",
       "    <tr>\n",
       "      <th>4</th>\n",
       "      <td>1</td>\n",
       "    </tr>\n",
       "  </tbody>\n",
       "</table>\n",
       "</div>"
      ],
      "text/plain": [
       "   0\n",
       "0  0\n",
       "1  1\n",
       "2  0\n",
       "3  0\n",
       "4  1"
      ]
     },
     "execution_count": 621,
     "metadata": {},
     "output_type": "execute_result"
    }
   ],
   "source": [
    "# Converting y_test to dataframe\n",
    "y_test_df = pd.DataFrame(y_test.values)\n",
    "y_test_df.head()"
   ]
  },
  {
   "cell_type": "code",
   "execution_count": 622,
   "metadata": {},
   "outputs": [],
   "source": [
    "# Removing index for both dataframes to append them side by side \n",
    "y_test_pred_df.reset_index(drop=True, inplace=True)\n",
    "y_test_df.reset_index(drop=True, inplace=True)"
   ]
  },
  {
   "cell_type": "code",
   "execution_count": 623,
   "metadata": {
    "id": "4qfBP17YQoLk"
   },
   "outputs": [
    {
     "data": {
      "text/html": [
       "<div>\n",
       "<style scoped>\n",
       "    .dataframe tbody tr th:only-of-type {\n",
       "        vertical-align: middle;\n",
       "    }\n",
       "\n",
       "    .dataframe tbody tr th {\n",
       "        vertical-align: top;\n",
       "    }\n",
       "\n",
       "    .dataframe thead th {\n",
       "        text-align: right;\n",
       "    }\n",
       "</style>\n",
       "<table border=\"1\" class=\"dataframe\">\n",
       "  <thead>\n",
       "    <tr style=\"text-align: right;\">\n",
       "      <th></th>\n",
       "      <th>0</th>\n",
       "      <th>0</th>\n",
       "    </tr>\n",
       "  </thead>\n",
       "  <tbody>\n",
       "    <tr>\n",
       "      <th>0</th>\n",
       "      <td>0</td>\n",
       "      <td>0.108549</td>\n",
       "    </tr>\n",
       "    <tr>\n",
       "      <th>1</th>\n",
       "      <td>1</td>\n",
       "      <td>0.080782</td>\n",
       "    </tr>\n",
       "    <tr>\n",
       "      <th>2</th>\n",
       "      <td>0</td>\n",
       "      <td>0.080782</td>\n",
       "    </tr>\n",
       "    <tr>\n",
       "      <th>3</th>\n",
       "      <td>0</td>\n",
       "      <td>0.226537</td>\n",
       "    </tr>\n",
       "    <tr>\n",
       "      <th>4</th>\n",
       "      <td>1</td>\n",
       "      <td>0.491260</td>\n",
       "    </tr>\n",
       "  </tbody>\n",
       "</table>\n",
       "</div>"
      ],
      "text/plain": [
       "   0         0\n",
       "0  0  0.108549\n",
       "1  1  0.080782\n",
       "2  0  0.080782\n",
       "3  0  0.226537\n",
       "4  1  0.491260"
      ]
     },
     "execution_count": 623,
     "metadata": {},
     "output_type": "execute_result"
    }
   ],
   "source": [
    "# Appending y_test_df and y_test_pred_df\n",
    "y_test_pred_final = pd.concat([y_test_df, y_test_pred_df],axis=1)\n",
    "y_test_pred_final.head()"
   ]
  },
  {
   "cell_type": "code",
   "execution_count": 624,
   "metadata": {
    "id": "eNiD__EdQoLl"
   },
   "outputs": [],
   "source": [
    "y_test_pred_final.columns = [['ConversionFlag', 'Conversion_Prob']]"
   ]
  },
  {
   "cell_type": "code",
   "execution_count": 625,
   "metadata": {},
   "outputs": [],
   "source": [
    "# Adding Lead Score column\n",
    "y_test_pred_final[\"Lead Score\"] = round(y_test_pred_final[\"Conversion_Prob\"]*100)"
   ]
  },
  {
   "cell_type": "code",
   "execution_count": 626,
   "metadata": {
    "colab": {
     "base_uri": "https://localhost:8080/",
     "height": 206
    },
    "id": "jm67rXBgvly4",
    "outputId": "2e82b482-431f-49e0-e49e-75f9fc68ba4d"
   },
   "outputs": [
    {
     "data": {
      "text/html": [
       "<div>\n",
       "<style scoped>\n",
       "    .dataframe tbody tr th:only-of-type {\n",
       "        vertical-align: middle;\n",
       "    }\n",
       "\n",
       "    .dataframe tbody tr th {\n",
       "        vertical-align: top;\n",
       "    }\n",
       "\n",
       "    .dataframe thead tr th {\n",
       "        text-align: left;\n",
       "    }\n",
       "</style>\n",
       "<table border=\"1\" class=\"dataframe\">\n",
       "  <thead>\n",
       "    <tr>\n",
       "      <th></th>\n",
       "      <th>ConversionFlag</th>\n",
       "      <th>Conversion_Prob</th>\n",
       "      <th>Lead Score</th>\n",
       "    </tr>\n",
       "  </thead>\n",
       "  <tbody>\n",
       "    <tr>\n",
       "      <th>0</th>\n",
       "      <td>0</td>\n",
       "      <td>0.108549</td>\n",
       "      <td>11.0</td>\n",
       "    </tr>\n",
       "    <tr>\n",
       "      <th>1</th>\n",
       "      <td>1</td>\n",
       "      <td>0.080782</td>\n",
       "      <td>8.0</td>\n",
       "    </tr>\n",
       "    <tr>\n",
       "      <th>2</th>\n",
       "      <td>0</td>\n",
       "      <td>0.080782</td>\n",
       "      <td>8.0</td>\n",
       "    </tr>\n",
       "    <tr>\n",
       "      <th>3</th>\n",
       "      <td>0</td>\n",
       "      <td>0.226537</td>\n",
       "      <td>23.0</td>\n",
       "    </tr>\n",
       "    <tr>\n",
       "      <th>4</th>\n",
       "      <td>1</td>\n",
       "      <td>0.491260</td>\n",
       "      <td>49.0</td>\n",
       "    </tr>\n",
       "  </tbody>\n",
       "</table>\n",
       "</div>"
      ],
      "text/plain": [
       "  ConversionFlag Conversion_Prob Lead Score\n",
       "0              0        0.108549       11.0\n",
       "1              1        0.080782        8.0\n",
       "2              0        0.080782        8.0\n",
       "3              0        0.226537       23.0\n",
       "4              1        0.491260       49.0"
      ]
     },
     "execution_count": 626,
     "metadata": {},
     "output_type": "execute_result"
    }
   ],
   "source": [
    "y_test_pred_final.head()"
   ]
  },
  {
   "cell_type": "code",
   "execution_count": 627,
   "metadata": {
    "colab": {
     "base_uri": "https://localhost:8080/",
     "height": 206
    },
    "id": "rPCCXc88Z85H",
    "outputId": "47dfddd9-5be2-4cf2-ca27-5a483a204c98",
    "scrolled": false
   },
   "outputs": [
    {
     "data": {
      "text/html": [
       "<div>\n",
       "<style scoped>\n",
       "    .dataframe tbody tr th:only-of-type {\n",
       "        vertical-align: middle;\n",
       "    }\n",
       "\n",
       "    .dataframe tbody tr th {\n",
       "        vertical-align: top;\n",
       "    }\n",
       "\n",
       "    .dataframe thead tr th {\n",
       "        text-align: left;\n",
       "    }\n",
       "</style>\n",
       "<table border=\"1\" class=\"dataframe\">\n",
       "  <thead>\n",
       "    <tr>\n",
       "      <th></th>\n",
       "      <th>ConversionFlag</th>\n",
       "      <th>Conversion_Prob</th>\n",
       "      <th>Lead Score</th>\n",
       "      <th>final_predicted</th>\n",
       "    </tr>\n",
       "  </thead>\n",
       "  <tbody>\n",
       "    <tr>\n",
       "      <th>0</th>\n",
       "      <td>0</td>\n",
       "      <td>0.108549</td>\n",
       "      <td>11.0</td>\n",
       "      <td>0</td>\n",
       "    </tr>\n",
       "    <tr>\n",
       "      <th>1</th>\n",
       "      <td>1</td>\n",
       "      <td>0.080782</td>\n",
       "      <td>8.0</td>\n",
       "      <td>0</td>\n",
       "    </tr>\n",
       "    <tr>\n",
       "      <th>2</th>\n",
       "      <td>0</td>\n",
       "      <td>0.080782</td>\n",
       "      <td>8.0</td>\n",
       "      <td>0</td>\n",
       "    </tr>\n",
       "    <tr>\n",
       "      <th>3</th>\n",
       "      <td>0</td>\n",
       "      <td>0.226537</td>\n",
       "      <td>23.0</td>\n",
       "      <td>0</td>\n",
       "    </tr>\n",
       "    <tr>\n",
       "      <th>4</th>\n",
       "      <td>1</td>\n",
       "      <td>0.491260</td>\n",
       "      <td>49.0</td>\n",
       "      <td>0</td>\n",
       "    </tr>\n",
       "  </tbody>\n",
       "</table>\n",
       "</div>"
      ],
      "text/plain": [
       "  ConversionFlag Conversion_Prob Lead Score final_predicted\n",
       "0              0        0.108549       11.0               0\n",
       "1              1        0.080782        8.0               0\n",
       "2              0        0.080782        8.0               0\n",
       "3              0        0.226537       23.0               0\n",
       "4              1        0.491260       49.0               0"
      ]
     },
     "execution_count": 627,
     "metadata": {},
     "output_type": "execute_result"
    }
   ],
   "source": [
    "y_test_pred_final['final_predicted'] = y_test_pred_final['Lead Score'].map(lambda x: 1 if x > 60 else 0)\n",
    "\n",
    "# Let's see the head\n",
    "y_test_pred_final.head()"
   ]
  },
  {
   "cell_type": "code",
   "execution_count": 628,
   "metadata": {},
   "outputs": [
    {
     "name": "stdout",
     "output_type": "stream",
     "text": [
      "0.7855040470934511\n"
     ]
    }
   ],
   "source": [
    "# Let's check the overall accuracy.\n",
    "print(metrics.accuracy_score(y_test_pred_final.ConversionFlag, y_test_pred_final.final_predicted))"
   ]
  },
  {
   "cell_type": "code",
   "execution_count": 629,
   "metadata": {
    "colab": {
     "base_uri": "https://localhost:8080/"
    },
    "id": "vQ2L5kMtZ85H",
    "outputId": "f2cf037c-c760-4c1d-a180-397fa220131b"
   },
   "outputs": [
    {
     "data": {
      "text/plain": [
       "0.8276877761413843"
      ]
     },
     "execution_count": 629,
     "metadata": {},
     "output_type": "execute_result"
    }
   ],
   "source": [
    "precision_score(y_test_pred_final.ConversionFlag, y_test_pred_final.final_predicted)"
   ]
  },
  {
   "cell_type": "markdown",
   "metadata": {
    "id": "tndjNdcJZ85H"
   },
   "source": [
    "As we can see from above, the precision value for train data set is greater than 80% for cut off value of 60"
   ]
  }
 ],
 "metadata": {
  "colab": {
   "provenance": []
  },
  "kernelspec": {
   "display_name": "Python 3 (ipykernel)",
   "language": "python",
   "name": "python3"
  },
  "language_info": {
   "codemirror_mode": {
    "name": "ipython",
    "version": 3
   },
   "file_extension": ".py",
   "mimetype": "text/x-python",
   "name": "python",
   "nbconvert_exporter": "python",
   "pygments_lexer": "ipython3",
   "version": "3.11.7"
  }
 },
 "nbformat": 4,
 "nbformat_minor": 1
}
